{
 "cells": [
  {
   "cell_type": "markdown",
   "id": "e44cd950",
   "metadata": {},
   "source": [
    "<h2 style=\"color:#00ffff;font-size:30px;\">LIST</h2>"
   ]
  },
  {
   "cell_type": "code",
   "execution_count": null,
   "id": "7b051088",
   "metadata": {},
   "outputs": [],
   "source": [
    "#List methods"
   ]
  },
  {
   "cell_type": "code",
   "execution_count": 1,
   "id": "14714f9a",
   "metadata": {},
   "outputs": [
    {
     "data": {
      "text/plain": [
       "[4, 5, 'nirmal', 555.5, 'python', 'data analytics']"
      ]
     },
     "execution_count": 1,
     "metadata": {},
     "output_type": "execute_result"
    }
   ],
   "source": [
    "lst =[4, 5, \"nirmal\", 555.5, \"python\", \"data analytics\"]\n",
    "lst"
   ]
  },
  {
   "cell_type": "code",
   "execution_count": 2,
   "id": "e5e2c447",
   "metadata": {},
   "outputs": [
    {
     "data": {
      "text/plain": [
       "[4, 5, 'nirmal', 35, 555.5, 'python', 'data analytics']"
      ]
     },
     "execution_count": 2,
     "metadata": {},
     "output_type": "execute_result"
    }
   ],
   "source": [
    "lst.insert(3, 35)\n",
    "lst"
   ]
  },
  {
   "cell_type": "code",
   "execution_count": 7,
   "id": "eb93b5b9",
   "metadata": {},
   "outputs": [
    {
     "data": {
      "text/plain": [
       "[4, 5, 'nirmal', 555.5, 'python', 'data analytics', 'tableau']"
      ]
     },
     "execution_count": 7,
     "metadata": {},
     "output_type": "execute_result"
    }
   ],
   "source": [
    "lst.append(\"tableau\")\n",
    "lst"
   ]
  },
  {
   "cell_type": "code",
   "execution_count": 8,
   "id": "00c67159",
   "metadata": {},
   "outputs": [
    {
     "data": {
      "text/plain": [
       "[4, 5, 'nirmal', 555.5, 'python', 'data analytics']"
      ]
     },
     "execution_count": 8,
     "metadata": {},
     "output_type": "execute_result"
    }
   ],
   "source": [
    "lst.pop()\n",
    "lst"
   ]
  },
  {
   "cell_type": "code",
   "execution_count": 9,
   "id": "26a5656d",
   "metadata": {},
   "outputs": [
    {
     "data": {
      "text/plain": [
       "[5, 'nirmal', 555.5, 'python', 'data analytics']"
      ]
     },
     "execution_count": 9,
     "metadata": {},
     "output_type": "execute_result"
    }
   ],
   "source": [
    "lst.remove(4)\n",
    "lst"
   ]
  },
  {
   "cell_type": "code",
   "execution_count": 10,
   "id": "b97b8827",
   "metadata": {},
   "outputs": [
    {
     "data": {
      "text/plain": [
       "[5,\n",
       " 'nirmal',\n",
       " 555.5,\n",
       " 'python',\n",
       " 'data analytics',\n",
       " 'tableau',\n",
       " 'power Bi',\n",
       " 'Excel']"
      ]
     },
     "execution_count": 10,
     "metadata": {},
     "output_type": "execute_result"
    }
   ],
   "source": [
    "lst.extend([\"tableau\",\"power Bi\", \"Excel\"])\n",
    "lst"
   ]
  },
  {
   "cell_type": "code",
   "execution_count": 11,
   "id": "1a8ba760",
   "metadata": {},
   "outputs": [
    {
     "data": {
      "text/plain": [
       "[1, 2, 3, 4, 5, 6, 7, 8]"
      ]
     },
     "execution_count": 11,
     "metadata": {},
     "output_type": "execute_result"
    }
   ],
   "source": [
    "l1 = [1,2,3,4]\n",
    "l2 = [5,6,7,8]\n",
    "l1.extend(l2)\n",
    "l1"
   ]
  },
  {
   "cell_type": "code",
   "execution_count": 12,
   "id": "91739c10",
   "metadata": {},
   "outputs": [
    {
     "data": {
      "text/plain": [
       "[1, 2, 3, 4, 5, 6, 7, 8, [5, 6, 7, 8]]"
      ]
     },
     "execution_count": 12,
     "metadata": {},
     "output_type": "execute_result"
    }
   ],
   "source": [
    "l1.append(l2)\n",
    "l1"
   ]
  },
  {
   "cell_type": "code",
   "execution_count": 13,
   "id": "2272f901",
   "metadata": {},
   "outputs": [
    {
     "data": {
      "text/plain": [
       "[5,\n",
       " 'nirmal',\n",
       " 555.5,\n",
       " 'python',\n",
       " 'data analytics',\n",
       " 'tableau',\n",
       " 'power Bi',\n",
       " 'Excel']"
      ]
     },
     "execution_count": 13,
     "metadata": {},
     "output_type": "execute_result"
    }
   ],
   "source": [
    "lst"
   ]
  },
  {
   "cell_type": "code",
   "execution_count": 14,
   "id": "33d5232d",
   "metadata": {},
   "outputs": [
    {
     "name": "stdout",
     "output_type": "stream",
     "text": [
      "['Excel', 'power Bi', 'tableau', 'data analytics', 'python', 555.5, 'nirmal', 5]"
     ]
    }
   ],
   "source": [
    "lst.reverse()\n",
    "print(lst, end=\"\")"
   ]
  },
  {
   "cell_type": "code",
   "execution_count": 15,
   "id": "6826fff5",
   "metadata": {},
   "outputs": [
    {
     "data": {
      "text/plain": [
       "8"
      ]
     },
     "execution_count": 15,
     "metadata": {},
     "output_type": "execute_result"
    }
   ],
   "source": [
    "len(lst)"
   ]
  },
  {
   "cell_type": "code",
   "execution_count": 16,
   "id": "cccc363b",
   "metadata": {},
   "outputs": [
    {
     "data": {
      "text/plain": [
       "6"
      ]
     },
     "execution_count": 16,
     "metadata": {},
     "output_type": "execute_result"
    }
   ],
   "source": [
    "lst.index(\"nirmal\")"
   ]
  },
  {
   "cell_type": "code",
   "execution_count": 17,
   "id": "4b76c5d6",
   "metadata": {},
   "outputs": [],
   "source": [
    "lst.clear()"
   ]
  },
  {
   "cell_type": "code",
   "execution_count": 18,
   "id": "1e3374f2",
   "metadata": {},
   "outputs": [
    {
     "data": {
      "text/plain": [
       "[]"
      ]
     },
     "execution_count": 18,
     "metadata": {},
     "output_type": "execute_result"
    }
   ],
   "source": [
    "lst"
   ]
  },
  {
   "cell_type": "markdown",
   "id": "4c64ba29",
   "metadata": {},
   "source": [
    "<h2 style=\"color:#00ffff;font-size:30px;\">Tuple</h2>"
   ]
  },
  {
   "cell_type": "code",
   "execution_count": 1,
   "id": "7932f5bf",
   "metadata": {},
   "outputs": [
    {
     "data": {
      "text/plain": [
       "()"
      ]
     },
     "execution_count": 1,
     "metadata": {},
     "output_type": "execute_result"
    }
   ],
   "source": [
    "#create an empty tuple\n",
    "tup = ()\n",
    "tup"
   ]
  },
  {
   "cell_type": "code",
   "execution_count": 2,
   "id": "b511efd8",
   "metadata": {},
   "outputs": [
    {
     "data": {
      "text/plain": [
       "0"
      ]
     },
     "execution_count": 2,
     "metadata": {},
     "output_type": "execute_result"
    }
   ],
   "source": [
    "len(tup)"
   ]
  },
  {
   "cell_type": "code",
   "execution_count": 3,
   "id": "633e664d",
   "metadata": {},
   "outputs": [
    {
     "data": {
      "text/plain": [
       "('nirmal', 33, 'nanthini', 35, 'apple', 25.5, 93.5)"
      ]
     },
     "execution_count": 3,
     "metadata": {},
     "output_type": "execute_result"
    }
   ],
   "source": [
    "tup1 = (\"nirmal\", 33, \"nanthini\", 35, \"apple\", 25.5, 93.5)\n",
    "tup1"
   ]
  },
  {
   "cell_type": "code",
   "execution_count": 4,
   "id": "e43d26a0",
   "metadata": {},
   "outputs": [
    {
     "data": {
      "text/plain": [
       "35"
      ]
     },
     "execution_count": 4,
     "metadata": {},
     "output_type": "execute_result"
    }
   ],
   "source": [
    "#Tuples Indexing\n",
    "\n",
    "tup1[3]"
   ]
  },
  {
   "cell_type": "code",
   "execution_count": 5,
   "id": "03ceba7d",
   "metadata": {},
   "outputs": [
    {
     "data": {
      "text/plain": [
       "('nirmal', 33, 'nanthini', 35)"
      ]
     },
     "execution_count": 5,
     "metadata": {},
     "output_type": "execute_result"
    }
   ],
   "source": [
    "tup1[:4]"
   ]
  },
  {
   "cell_type": "code",
   "execution_count": 6,
   "id": "8c55d3a5",
   "metadata": {},
   "outputs": [
    {
     "data": {
      "text/plain": [
       "('apple', 25.5, 93.5)"
      ]
     },
     "execution_count": 6,
     "metadata": {},
     "output_type": "execute_result"
    }
   ],
   "source": [
    "tup1[4:]"
   ]
  },
  {
   "cell_type": "code",
   "execution_count": 7,
   "id": "f1c71b02",
   "metadata": {},
   "outputs": [
    {
     "data": {
      "text/plain": [
       "(93.5, 25.5, 'apple', 35, 'nanthini', 33, 'nirmal')"
      ]
     },
     "execution_count": 7,
     "metadata": {},
     "output_type": "execute_result"
    }
   ],
   "source": [
    "tup1[::-1] #reverse"
   ]
  },
  {
   "cell_type": "code",
   "execution_count": 8,
   "id": "b9a997c4",
   "metadata": {},
   "outputs": [
    {
     "ename": "TypeError",
     "evalue": "'tuple' object does not support item assignment",
     "output_type": "error",
     "traceback": [
      "\u001b[1;31m---------------------------------------------------------------------------\u001b[0m",
      "\u001b[1;31mTypeError\u001b[0m                                 Traceback (most recent call last)",
      "\u001b[1;32m<ipython-input-8-9b7669853e20>\u001b[0m in \u001b[0;36m<module>\u001b[1;34m\u001b[0m\n\u001b[0;32m      1\u001b[0m \u001b[1;31m#tuple mutability\u001b[0m\u001b[1;33m\u001b[0m\u001b[1;33m\u001b[0m\u001b[1;33m\u001b[0m\u001b[0m\n\u001b[1;32m----> 2\u001b[1;33m \u001b[0mtup1\u001b[0m\u001b[1;33m[\u001b[0m\u001b[1;36m5\u001b[0m\u001b[1;33m]\u001b[0m\u001b[1;33m=\u001b[0m\u001b[1;34m\"banana\"\u001b[0m\u001b[1;33m\u001b[0m\u001b[1;33m\u001b[0m\u001b[0m\n\u001b[0m\u001b[0;32m      3\u001b[0m \u001b[0mtupl\u001b[0m\u001b[1;33m\u001b[0m\u001b[1;33m\u001b[0m\u001b[0m\n",
      "\u001b[1;31mTypeError\u001b[0m: 'tuple' object does not support item assignment"
     ]
    }
   ],
   "source": [
    "#tuple mutability \n",
    "tup1[5]=\"banana\"\n",
    "tupl"
   ]
  },
  {
   "cell_type": "code",
   "execution_count": 10,
   "id": "eb5ed6d0",
   "metadata": {},
   "outputs": [
    {
     "data": {
      "text/plain": [
       "('Julia',\n",
       " 'Roberts',\n",
       " 1967,\n",
       " 'Eat Pray Love',\n",
       " 2010,\n",
       " 'Actress',\n",
       " 'Atlanta, Georgia')"
      ]
     },
     "execution_count": 10,
     "metadata": {},
     "output_type": "execute_result"
    }
   ],
   "source": [
    "julia = (\"Julia\", \"Roberts\", 1967, \"Duplicity\", 2009, \"Actress\", \"Atlanta, Georgia\")\n",
    "julia = julia[:3] + (\"Eat Pray Love\", 2010) + julia[5:]\n",
    "julia"
   ]
  },
  {
   "cell_type": "code",
   "execution_count": 2,
   "id": "77a9378e",
   "metadata": {},
   "outputs": [
    {
     "name": "stdout",
     "output_type": "stream",
     "text": [
      "Nirmal\n",
      "27\n",
      "B.E\n"
     ]
    }
   ],
   "source": [
    "nirmal = (\"Nirmal\", 27, \"B.E\")  # tuple packing\n",
    "(name, age, dgree) = nirmal  # tuple unpacking\n",
    "print(name)\n",
    "print(age)\n",
    "print(dgree)"
   ]
  },
  {
   "cell_type": "code",
   "execution_count": 11,
   "id": "446343d4",
   "metadata": {},
   "outputs": [
    {
     "data": {
      "text/plain": [
       "('nirmal', 33, 'nanthini', 35, 'apple', 25.5, 93.5, 25.5, 93.5, 93.5)"
      ]
     },
     "execution_count": 11,
     "metadata": {},
     "output_type": "execute_result"
    }
   ],
   "source": [
    "tup1 = (\"nirmal\", 33, \"nanthini\", 35, \"apple\", 25.5, 93.5, 25.5, 93.5, 93.5)\n",
    "tup1"
   ]
  },
  {
   "cell_type": "code",
   "execution_count": 12,
   "id": "dd485be9",
   "metadata": {},
   "outputs": [
    {
     "data": {
      "text/plain": [
       "3"
      ]
     },
     "execution_count": 12,
     "metadata": {},
     "output_type": "execute_result"
    }
   ],
   "source": [
    "x = tup1.count(93.5) #Return the number of times the value 93.5 appears in the tuple\n",
    "x"
   ]
  },
  {
   "cell_type": "code",
   "execution_count": 14,
   "id": "8823abc0",
   "metadata": {},
   "outputs": [
    {
     "data": {
      "text/plain": [
       "5"
      ]
     },
     "execution_count": 14,
     "metadata": {},
     "output_type": "execute_result"
    }
   ],
   "source": [
    "tup1.index(25.5) #Search for the first occurrence of the value 25.5, and return its position"
   ]
  },
  {
   "cell_type": "markdown",
   "id": "50ec509d",
   "metadata": {},
   "source": [
    "<h2 style=\"color:#00ffff;font-size:30px;\">Dictionary</h2>"
   ]
  },
  {
   "cell_type": "markdown",
   "id": "a3198fbb",
   "metadata": {},
   "source": [
    "1. Dictionary consists of key-value pairs.\n",
    "2. It is enclosed by curly braces {}\n",
    "3. values can be assigned and accessed using square brackets[].\n",
    "4. Dictionary in Python is a collection of unordered values"
   ]
  },
  {
   "cell_type": "code",
   "execution_count": 16,
   "id": "a2888c40",
   "metadata": {},
   "outputs": [
    {
     "name": "stdout",
     "output_type": "stream",
     "text": [
      "{'name': 'Naveen', 'age': 24}\n"
     ]
    }
   ],
   "source": [
    "dic = {\"name\" : \"Nirmal\", \"age\" : 27, \"name\" : \"Naveen\", \"age\" : 24} #Key is unique\n",
    "print(dic)"
   ]
  },
  {
   "cell_type": "code",
   "execution_count": 18,
   "id": "39414dc9",
   "metadata": {},
   "outputs": [
    {
     "name": "stdout",
     "output_type": "stream",
     "text": [
      "{'name1': 'Nirmal', 'age1': 27, 'name2': 'Naveen', 'age2': 24}\n"
     ]
    }
   ],
   "source": [
    "dic1 = {\"name1\" : \"Nirmal\", \"age1\" : 27, \"name2\" : \"Naveen\", \"age2\" : 24}\n",
    "print(dic1)"
   ]
  },
  {
   "cell_type": "code",
   "execution_count": 19,
   "id": "edb0fbc4",
   "metadata": {},
   "outputs": [
    {
     "data": {
      "text/plain": [
       "dict_keys(['name1', 'age1', 'name2', 'age2'])"
      ]
     },
     "execution_count": 19,
     "metadata": {},
     "output_type": "execute_result"
    }
   ],
   "source": [
    "dic1.keys()"
   ]
  },
  {
   "cell_type": "code",
   "execution_count": 20,
   "id": "acaa1a9f",
   "metadata": {},
   "outputs": [
    {
     "data": {
      "text/plain": [
       "dict_values(['Nirmal', 27, 'Naveen', 24])"
      ]
     },
     "execution_count": 20,
     "metadata": {},
     "output_type": "execute_result"
    }
   ],
   "source": [
    "dic1.values()"
   ]
  },
  {
   "cell_type": "code",
   "execution_count": 21,
   "id": "15f442fe",
   "metadata": {},
   "outputs": [
    {
     "data": {
      "text/plain": [
       "'Nirmal'"
      ]
     },
     "execution_count": 21,
     "metadata": {},
     "output_type": "execute_result"
    }
   ],
   "source": [
    "dic1[\"name1\"]"
   ]
  },
  {
   "cell_type": "code",
   "execution_count": 23,
   "id": "f943b525",
   "metadata": {},
   "outputs": [
    {
     "data": {
      "text/plain": [
       "{'name1': 'Nirmal', 'age1': 27, 'age2': 24}"
      ]
     },
     "execution_count": 23,
     "metadata": {},
     "output_type": "execute_result"
    }
   ],
   "source": [
    "del dic1[\"name2\"] #only key is delete option values cannot be deleted\n",
    "dic1"
   ]
  },
  {
   "cell_type": "code",
   "execution_count": 26,
   "id": "133c7395",
   "metadata": {},
   "outputs": [
    {
     "data": {
      "text/plain": [
       "{'one': 1, 'two': 2, 'three': 3}"
      ]
     },
     "execution_count": 26,
     "metadata": {},
     "output_type": "execute_result"
    }
   ],
   "source": [
    "dict([(\"one\", 1), (\"two\", 2), (\"three\", 3)])"
   ]
  },
  {
   "cell_type": "code",
   "execution_count": 32,
   "id": "33cd9c13",
   "metadata": {},
   "outputs": [
    {
     "data": {
      "text/plain": [
       "{1: 1, 2: 8, 3: 27, 4: 64, 5: 125}"
      ]
     },
     "execution_count": 32,
     "metadata": {},
     "output_type": "execute_result"
    }
   ],
   "source": [
    "{x: x**3 for x in (1,2,3,4,5)} #dict comprehensions"
   ]
  },
  {
   "cell_type": "code",
   "execution_count": 34,
   "id": "fecf6a87",
   "metadata": {},
   "outputs": [
    {
     "data": {
      "text/plain": [
       "{'A': 1, 'B': 2, 'C': 3, 'D': 4}"
      ]
     },
     "execution_count": 34,
     "metadata": {},
     "output_type": "execute_result"
    }
   ],
   "source": [
    "dict(A = 1, B = 2, C = 3, D = 4) #pairs using keyword arguments"
   ]
  },
  {
   "cell_type": "code",
   "execution_count": 35,
   "id": "488df0d8",
   "metadata": {},
   "outputs": [
    {
     "name": "stdout",
     "output_type": "stream",
     "text": [
      "A 1\n",
      "B 2\n",
      "C 3\n",
      "D 4\n"
     ]
    }
   ],
   "source": [
    "letters = {'A': 1, 'B': 2, 'C': 3, 'D': 4}\n",
    "\n",
    "for i,j in letters.items():\n",
    "    print(i,j)"
   ]
  },
  {
   "cell_type": "code",
   "execution_count": null,
   "id": "48c03f9e",
   "metadata": {},
   "outputs": [],
   "source": [
    "#Dictionary methods"
   ]
  },
  {
   "cell_type": "code",
   "execution_count": 47,
   "id": "6c72c8d6",
   "metadata": {},
   "outputs": [
    {
     "data": {
      "text/plain": [
       "{'brand': 'dell',\n",
       " 'Model': 'inspiron',\n",
       " 'processor': 'I5',\n",
       " 'ram': 8,\n",
       " 'price': 60000}"
      ]
     },
     "execution_count": 47,
     "metadata": {},
     "output_type": "execute_result"
    }
   ],
   "source": [
    "laptop = {\"brand\" : \"dell\", \"Model\":\"inspiron\", \"processor\" : \"I5\", \"ram\":8, \"price\":60000}\n",
    "\n",
    "y=laptop.copy() #Copy the laptop dictionary\n",
    "y"
   ]
  },
  {
   "cell_type": "code",
   "execution_count": 40,
   "id": "0a2c3c10",
   "metadata": {},
   "outputs": [
    {
     "data": {
      "text/plain": [
       "{'key1': 0, 'key2': 0, 'key3': 0, 'key4': 0}"
      ]
     },
     "execution_count": 40,
     "metadata": {},
     "output_type": "execute_result"
    }
   ],
   "source": [
    "x = (\"key1\", \"key2\", \"key3\", \"key4\") \n",
    "y = 0\n",
    "\n",
    "z = dict.fromkeys(x,y)\n",
    "z"
   ]
  },
  {
   "cell_type": "code",
   "execution_count": 41,
   "id": "12082ccc",
   "metadata": {},
   "outputs": [
    {
     "data": {
      "text/plain": [
       "'I5'"
      ]
     },
     "execution_count": 41,
     "metadata": {},
     "output_type": "execute_result"
    }
   ],
   "source": [
    "laptop.get(\"processor\") #The get() method returns the value of the item with the specified key."
   ]
  },
  {
   "cell_type": "code",
   "execution_count": 44,
   "id": "7c4c26d5",
   "metadata": {},
   "outputs": [
    {
     "data": {
      "text/plain": [
       "dict_items([('brand', 'dell'), ('Model', 'inspiron'), ('processor', 'I5'), ('ram', 8), ('price', 60000)])"
      ]
     },
     "execution_count": 44,
     "metadata": {},
     "output_type": "execute_result"
    }
   ],
   "source": [
    "laptop.items() #The view object contains the key-value pairs of the dictionary, as tuples in a list."
   ]
  },
  {
   "cell_type": "code",
   "execution_count": 48,
   "id": "8d76890e",
   "metadata": {},
   "outputs": [
    {
     "data": {
      "text/plain": [
       "{'brand': 'dell', 'processor': 'I5', 'ram': 8, 'price': 60000}"
      ]
     },
     "execution_count": 48,
     "metadata": {},
     "output_type": "execute_result"
    }
   ],
   "source": [
    "laptop.pop(\"Model\") #removes the specified item from the dictionary.\n",
    "laptop"
   ]
  },
  {
   "cell_type": "code",
   "execution_count": 49,
   "id": "d9043af1",
   "metadata": {},
   "outputs": [
    {
     "data": {
      "text/plain": [
       "{'brand': 'dell', 'processor': 'I5', 'ram': 8}"
      ]
     },
     "execution_count": 49,
     "metadata": {},
     "output_type": "execute_result"
    }
   ],
   "source": [
    "laptop.popitem() #removes the item that was last inserted into the dictionary\n",
    "laptop"
   ]
  },
  {
   "cell_type": "code",
   "execution_count": 53,
   "id": "0c30a0d5",
   "metadata": {},
   "outputs": [
    {
     "data": {
      "text/plain": [
       "'I5'"
      ]
     },
     "execution_count": 53,
     "metadata": {},
     "output_type": "execute_result"
    }
   ],
   "source": [
    "laptop = {\"brand\" : \"dell\", \"Model\":\"inspiron\", \"processor\" : \"I5\", \"ram\":8, \"price\":60000}\n",
    "\n",
    "x = laptop.setdefault(\"processor\", \"Intel I5 11th gen\") \n",
    "x #method returns the value of the item with the specified key"
   ]
  },
  {
   "cell_type": "code",
   "execution_count": 54,
   "id": "0aa4a6b2",
   "metadata": {},
   "outputs": [
    {
     "data": {
      "text/plain": [
       "{'brand': 'dell',\n",
       " 'Model': 'inspiron',\n",
       " 'processor': 'I5',\n",
       " 'ram': 8,\n",
       " 'price': 60000,\n",
       " 'model no': 5401,\n",
       " 'size': '14 inch'}"
      ]
     },
     "execution_count": 54,
     "metadata": {},
     "output_type": "execute_result"
    }
   ],
   "source": [
    "laptop.update({\"model no\":5401, \"size\":\"14 inch\"}) #inserts the specified items to the dictionary.\n",
    "laptop"
   ]
  },
  {
   "cell_type": "code",
   "execution_count": 55,
   "id": "04de66e1",
   "metadata": {},
   "outputs": [
    {
     "data": {
      "text/plain": [
       "{}"
      ]
     },
     "execution_count": 55,
     "metadata": {},
     "output_type": "execute_result"
    }
   ],
   "source": [
    "laptop.clear() #Removes all the elements from the dictionary\n",
    "laptop"
   ]
  },
  {
   "cell_type": "markdown",
   "id": "760953f0",
   "metadata": {},
   "source": [
    "<h2 style=\"color:#00ffff;font-size:30px;\">set</h2>"
   ]
  },
  {
   "cell_type": "markdown",
   "id": "65ae089a",
   "metadata": {},
   "source": [
    "1. Sets are used to store multiple items in a single variable.\n",
    "2. A set is a collection which is unordered, unchangeable*, and unindexed.\n",
    "3. Set items are unchangeable, but you can remove items and add new items.\n",
    "4. Sets are written with curly brackets.\n",
    "5. Duplicates Not Allowed"
   ]
  },
  {
   "cell_type": "code",
   "execution_count": 56,
   "id": "bae55fc6",
   "metadata": {},
   "outputs": [
    {
     "data": {
      "text/plain": [
       "{'apple', 'banana', 'cherry'}"
      ]
     },
     "execution_count": 56,
     "metadata": {},
     "output_type": "execute_result"
    }
   ],
   "source": [
    "set1 = {\"apple\", \"banana\", \"cherry\", \"apple\"} #Duplicates Not Allowed\n",
    "set1"
   ]
  },
  {
   "cell_type": "code",
   "execution_count": 57,
   "id": "093accc4",
   "metadata": {},
   "outputs": [
    {
     "data": {
      "text/plain": [
       "3"
      ]
     },
     "execution_count": 57,
     "metadata": {},
     "output_type": "execute_result"
    }
   ],
   "source": [
    "len(set1)"
   ]
  },
  {
   "cell_type": "code",
   "execution_count": 59,
   "id": "8a7a58e4",
   "metadata": {},
   "outputs": [
    {
     "data": {
      "text/plain": [
       "{34, 40, True, 'john', 'male'}"
      ]
     },
     "execution_count": 59,
     "metadata": {},
     "output_type": "execute_result"
    }
   ],
   "source": [
    "set2 = {\"john\", 34, True, 40, \"male\"}\n",
    "set2"
   ]
  },
  {
   "cell_type": "code",
   "execution_count": 61,
   "id": "062a925e",
   "metadata": {},
   "outputs": [
    {
     "data": {
      "text/plain": [
       "{1, 3, 5, 7, 9}"
      ]
     },
     "execution_count": 61,
     "metadata": {},
     "output_type": "execute_result"
    }
   ],
   "source": [
    "set3 = {1, 5, 7, 9, 3} #ordered\n",
    "set3"
   ]
  },
  {
   "cell_type": "code",
   "execution_count": 62,
   "id": "9f355409",
   "metadata": {},
   "outputs": [
    {
     "data": {
      "text/plain": [
       "set"
      ]
     },
     "execution_count": 62,
     "metadata": {},
     "output_type": "execute_result"
    }
   ],
   "source": [
    "type(set3)"
   ]
  },
  {
   "cell_type": "code",
   "execution_count": 63,
   "id": "45a3ba7f",
   "metadata": {},
   "outputs": [
    {
     "data": {
      "text/plain": [
       "{'apple', 'banana', 'cherry'}"
      ]
     },
     "execution_count": 63,
     "metadata": {},
     "output_type": "execute_result"
    }
   ],
   "source": [
    "set4 = set((\"apple\", \"banana\", \"cherry\",))\n",
    "set4"
   ]
  },
  {
   "cell_type": "code",
   "execution_count": null,
   "id": "9f283368",
   "metadata": {},
   "outputs": [],
   "source": [
    "# set Methods"
   ]
  },
  {
   "cell_type": "code",
   "execution_count": 64,
   "id": "10fc0d0b",
   "metadata": {},
   "outputs": [
    {
     "data": {
      "text/plain": [
       "{'apple', 'banana', 'cherry', 'mango', 'orange'}"
      ]
     },
     "execution_count": 64,
     "metadata": {},
     "output_type": "execute_result"
    }
   ],
   "source": [
    "fruits = {\"apple\", \"banana\", \"mango\", \"cherry\"}\n",
    "\n",
    "fruits.add(\"orange\") #adds an element to the set.\n",
    "fruits"
   ]
  },
  {
   "cell_type": "code",
   "execution_count": 66,
   "id": "66b54a94",
   "metadata": {},
   "outputs": [
    {
     "name": "stdout",
     "output_type": "stream",
     "text": [
      "{1, 2, 3, 4}\n"
     ]
    }
   ],
   "source": [
    "x = {1,2,3,4,5,6}\n",
    "y = {5,6,7,8,9,10}\n",
    "\n",
    "z = x.difference(y) #returns a set that contains the difference between two sets\n",
    "print(z)"
   ]
  },
  {
   "cell_type": "code",
   "execution_count": 67,
   "id": "6b0b128b",
   "metadata": {},
   "outputs": [
    {
     "data": {
      "text/plain": [
       "{7, 8, 9, 10}"
      ]
     },
     "execution_count": 67,
     "metadata": {},
     "output_type": "execute_result"
    }
   ],
   "source": [
    "z = y.difference(x)\n",
    "z"
   ]
  },
  {
   "cell_type": "code",
   "execution_count": 69,
   "id": "e89a6e5e",
   "metadata": {},
   "outputs": [
    {
     "name": "stdout",
     "output_type": "stream",
     "text": [
      "{1, 2, 3, 4}\n"
     ]
    }
   ],
   "source": [
    "x.difference_update(y) #removes the items that exist in both sets.\n",
    "print(x)"
   ]
  },
  {
   "cell_type": "code",
   "execution_count": 70,
   "id": "6c33491e",
   "metadata": {},
   "outputs": [
    {
     "data": {
      "text/plain": [
       "{1, 2, 3}"
      ]
     },
     "execution_count": 70,
     "metadata": {},
     "output_type": "execute_result"
    }
   ],
   "source": [
    "x.discard(4) #removes the specified item from the set.\n",
    "x"
   ]
  },
  {
   "cell_type": "code",
   "execution_count": 71,
   "id": "6879ef74",
   "metadata": {},
   "outputs": [
    {
     "data": {
      "text/plain": [
       "{'apple'}"
      ]
     },
     "execution_count": 71,
     "metadata": {},
     "output_type": "execute_result"
    }
   ],
   "source": [
    "x1 = {\"apple\", \"banana\", \"cherry\"}\n",
    "y1 = {\"google\", \"microsoft\", \"apple\"}\n",
    "\n",
    "z = x1.intersection(y1) #returns a set that contains the similarity between two or more sets\n",
    "z"
   ]
  },
  {
   "cell_type": "code",
   "execution_count": 76,
   "id": "856da2dc",
   "metadata": {},
   "outputs": [
    {
     "data": {
      "text/plain": [
       "True"
      ]
     },
     "execution_count": 76,
     "metadata": {},
     "output_type": "execute_result"
    }
   ],
   "source": [
    "x = {\"apple\", \"banana\", \"cherry\"}\n",
    "y = {\"google\", \"microsoft\", \"facebook\"}\n",
    "z = x.isdisjoint(y) #True if none of the items are present in both sets, otherwise it returns False\n",
    "z"
   ]
  },
  {
   "cell_type": "code",
   "execution_count": 77,
   "id": "6ba16175",
   "metadata": {},
   "outputs": [
    {
     "data": {
      "text/plain": [
       "True"
      ]
     },
     "execution_count": 77,
     "metadata": {},
     "output_type": "execute_result"
    }
   ],
   "source": [
    "x = {\"a\", \"b\", \"c\"}\n",
    "y = {\"f\", \"e\", \"d\", \"c\", \"b\", \"a\"}\n",
    "\n",
    "z = x.issubset(y) #True if all items in the set exists in the specified set, otherwise it retuns False\n",
    "z"
   ]
  },
  {
   "cell_type": "code",
   "execution_count": 79,
   "id": "d8e9be38",
   "metadata": {},
   "outputs": [
    {
     "data": {
      "text/plain": [
       "True"
      ]
     },
     "execution_count": 79,
     "metadata": {},
     "output_type": "execute_result"
    }
   ],
   "source": [
    "x = {\"f\", \"e\", \"d\", \"c\", \"b\", \"a\"}\n",
    "y = {\"a\", \"b\", \"c\"}\n",
    "#True if all items in the specified set exists in the original set, otherwise it retuns False.\n",
    "z = x.issuperset(y)\n",
    "z"
   ]
  },
  {
   "cell_type": "code",
   "execution_count": 80,
   "id": "ccd13a29",
   "metadata": {},
   "outputs": [
    {
     "data": {
      "text/plain": [
       "False"
      ]
     },
     "execution_count": 80,
     "metadata": {},
     "output_type": "execute_result"
    }
   ],
   "source": [
    "z = y.issuperset(x)\n",
    "z"
   ]
  },
  {
   "cell_type": "code",
   "execution_count": 81,
   "id": "79f27678",
   "metadata": {},
   "outputs": [
    {
     "data": {
      "text/plain": [
       "{'a', 'b', 'c', 'd', 'e'}"
      ]
     },
     "execution_count": 81,
     "metadata": {},
     "output_type": "execute_result"
    }
   ],
   "source": [
    "x.remove(\"f\")\n",
    "x"
   ]
  },
  {
   "cell_type": "code",
   "execution_count": 82,
   "id": "3c64b490",
   "metadata": {},
   "outputs": [
    {
     "data": {
      "text/plain": [
       "{'apple', 'banana', 'cherry', 'google', 'microsoft'}"
      ]
     },
     "execution_count": 82,
     "metadata": {},
     "output_type": "execute_result"
    }
   ],
   "source": [
    "x = {\"apple\", \"banana\", \"cherry\"}\n",
    "y = {\"google\", \"microsoft\", \"apple\"}\n",
    "\n",
    "z = x.union(y)\n",
    "z"
   ]
  },
  {
   "cell_type": "code",
   "execution_count": 83,
   "id": "b076a9b4",
   "metadata": {},
   "outputs": [
    {
     "data": {
      "text/plain": [
       "{'apple', 'banana', 'cherry', 'google', 'microsoft'}"
      ]
     },
     "execution_count": 83,
     "metadata": {},
     "output_type": "execute_result"
    }
   ],
   "source": [
    "x.update(y) \n",
    "x"
   ]
  },
  {
   "cell_type": "code",
   "execution_count": 84,
   "id": "b98a9bd1",
   "metadata": {},
   "outputs": [
    {
     "data": {
      "text/plain": [
       "{'banana', 'cherry', 'google', 'microsoft'}"
      ]
     },
     "execution_count": 84,
     "metadata": {},
     "output_type": "execute_result"
    }
   ],
   "source": [
    "x = {\"apple\", \"banana\", \"cherry\"}\n",
    "y = {\"google\", \"microsoft\", \"apple\"}\n",
    "\n",
    "z = x.symmetric_difference(y)\n",
    "z"
   ]
  }
 ],
 "metadata": {
  "kernelspec": {
   "display_name": "Python 3",
   "language": "python",
   "name": "python3"
  },
  "language_info": {
   "codemirror_mode": {
    "name": "ipython",
    "version": 3
   },
   "file_extension": ".py",
   "mimetype": "text/x-python",
   "name": "python",
   "nbconvert_exporter": "python",
   "pygments_lexer": "ipython3",
   "version": "3.8.8"
  }
 },
 "nbformat": 4,
 "nbformat_minor": 5
}
