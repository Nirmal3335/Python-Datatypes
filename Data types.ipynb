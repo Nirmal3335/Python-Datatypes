{
 "cells": [
  {
   "cell_type": "markdown",
   "id": "a2278524",
   "metadata": {},
   "source": [
    "<h2 style=\"color:orange;font-size:30px;\">Variables</h2>\n",
    "#We use variables to temporarily store data in computer’s memory."
   ]
  },
  {
   "cell_type": "code",
   "execution_count": 115,
   "id": "51f243f2",
   "metadata": {},
   "outputs": [
    {
     "name": "stdout",
     "output_type": "stream",
     "text": [
      "my name is nirmal\n"
     ]
    }
   ],
   "source": [
    "print(\"my name is nirmal\")"
   ]
  },
  {
   "cell_type": "code",
   "execution_count": 118,
   "id": "4e687a8a",
   "metadata": {},
   "outputs": [
    {
     "data": {
      "text/plain": [
       "int"
      ]
     },
     "execution_count": 118,
     "metadata": {},
     "output_type": "execute_result"
    }
   ],
   "source": [
    "var1 = 15156\n",
    "type(var1)"
   ]
  },
  {
   "cell_type": "code",
   "execution_count": 29,
   "id": "f0f94ee2",
   "metadata": {},
   "outputs": [
    {
     "data": {
      "text/plain": [
       "bool"
      ]
     },
     "execution_count": 29,
     "metadata": {},
     "output_type": "execute_result"
    }
   ],
   "source": [
    "log1 = True\n",
    "type(log1)"
   ]
  },
  {
   "cell_type": "code",
   "execution_count": 1,
   "id": "21d64b84",
   "metadata": {},
   "outputs": [
    {
     "data": {
      "text/plain": [
       "str"
      ]
     },
     "execution_count": 1,
     "metadata": {},
     "output_type": "execute_result"
    }
   ],
   "source": [
    "char1 = \"nirmal\"\n",
    "type(char1)"
   ]
  },
  {
   "cell_type": "code",
   "execution_count": 5,
   "id": "6442831f",
   "metadata": {},
   "outputs": [],
   "source": [
    "comp1 = 3+5j"
   ]
  },
  {
   "cell_type": "code",
   "execution_count": 6,
   "id": "93a7eee9",
   "metadata": {},
   "outputs": [
    {
     "data": {
      "text/plain": [
       "complex"
      ]
     },
     "execution_count": 6,
     "metadata": {},
     "output_type": "execute_result"
    }
   ],
   "source": [
    "type(comp1)"
   ]
  },
  {
   "cell_type": "code",
   "execution_count": 7,
   "id": "d1e17efd",
   "metadata": {},
   "outputs": [
    {
     "data": {
      "text/plain": [
       "float"
      ]
     },
     "execution_count": 7,
     "metadata": {},
     "output_type": "execute_result"
    }
   ],
   "source": [
    "fol=12.56526\n",
    "type(fol)"
   ]
  },
  {
   "cell_type": "code",
   "execution_count": null,
   "id": "ae536280",
   "metadata": {},
   "outputs": [],
   "source": [
    "#oprators"
   ]
  },
  {
   "cell_type": "code",
   "execution_count": null,
   "id": "dd89e678",
   "metadata": {},
   "outputs": [],
   "source": [
    "#Arithmatic oprators +,-,*,/"
   ]
  },
  {
   "cell_type": "code",
   "execution_count": 2,
   "id": "d949c582",
   "metadata": {},
   "outputs": [],
   "source": [
    "n1 = 40\n",
    "n2 = 60"
   ]
  },
  {
   "cell_type": "code",
   "execution_count": 119,
   "id": "e21f794a",
   "metadata": {},
   "outputs": [
    {
     "data": {
      "text/plain": [
       "100"
      ]
     },
     "execution_count": 119,
     "metadata": {},
     "output_type": "execute_result"
    }
   ],
   "source": [
    "#Addition\n",
    "n1 + n2"
   ]
  },
  {
   "cell_type": "code",
   "execution_count": 3,
   "id": "6809c47d",
   "metadata": {},
   "outputs": [
    {
     "data": {
      "text/plain": [
       "20"
      ]
     },
     "execution_count": 3,
     "metadata": {},
     "output_type": "execute_result"
    }
   ],
   "source": [
    "#subtraction\n",
    "n2 - n1"
   ]
  },
  {
   "cell_type": "code",
   "execution_count": 4,
   "id": "79ed1649",
   "metadata": {},
   "outputs": [
    {
     "data": {
      "text/plain": [
       "100"
      ]
     },
     "execution_count": 4,
     "metadata": {},
     "output_type": "execute_result"
    }
   ],
   "source": [
    "n1 - - n2"
   ]
  },
  {
   "cell_type": "code",
   "execution_count": 11,
   "id": "165a468a",
   "metadata": {},
   "outputs": [
    {
     "data": {
      "text/plain": [
       "2400"
      ]
     },
     "execution_count": 11,
     "metadata": {},
     "output_type": "execute_result"
    }
   ],
   "source": [
    "#multiplication\n",
    "\n",
    "n1 * n2 #Multiplying two integers results in an int, and multiplying a number with a float results in a float."
   ]
  },
  {
   "cell_type": "code",
   "execution_count": 5,
   "id": "e02e01c7",
   "metadata": {},
   "outputs": [
    {
     "data": {
      "text/plain": [
       "16.0"
      ]
     },
     "execution_count": 5,
     "metadata": {},
     "output_type": "execute_result"
    }
   ],
   "source": [
    "2 * 8.0"
   ]
  },
  {
   "cell_type": "code",
   "execution_count": 12,
   "id": "d4bb3556",
   "metadata": {},
   "outputs": [
    {
     "data": {
      "text/plain": [
       "1.5"
      ]
     },
     "execution_count": 12,
     "metadata": {},
     "output_type": "execute_result"
    }
   ],
   "source": [
    "#division\n",
    "n2 / n1 #division with the / operator always returns a float."
   ]
  },
  {
   "cell_type": "code",
   "execution_count": 6,
   "id": "0992683c",
   "metadata": {},
   "outputs": [
    {
     "data": {
      "text/plain": [
       "3"
      ]
     },
     "execution_count": 6,
     "metadata": {},
     "output_type": "execute_result"
    }
   ],
   "source": [
    "#integer division\n",
    "9//3"
   ]
  },
  {
   "cell_type": "code",
   "execution_count": 7,
   "id": "55b48943",
   "metadata": {},
   "outputs": [
    {
     "data": {
      "text/plain": [
       "2"
      ]
     },
     "execution_count": 7,
     "metadata": {},
     "output_type": "execute_result"
    }
   ],
   "source": [
    "5 // 2"
   ]
  },
  {
   "cell_type": "code",
   "execution_count": 8,
   "id": "97afc2bd",
   "metadata": {},
   "outputs": [
    {
     "data": {
      "text/plain": [
       "-2"
      ]
     },
     "execution_count": 8,
     "metadata": {},
     "output_type": "execute_result"
    }
   ],
   "source": [
    "-3 // 2 #First, -3 is divided by 2 to get -1.5. Then -1.5 is rounded down to -2."
   ]
  },
  {
   "cell_type": "code",
   "execution_count": 9,
   "id": "62f71a8d",
   "metadata": {},
   "outputs": [
    {
     "data": {
      "text/plain": [
       "4"
      ]
     },
     "execution_count": 9,
     "metadata": {},
     "output_type": "execute_result"
    }
   ],
   "source": [
    "#Exponents\n",
    "\n",
    "2 ** 2"
   ]
  },
  {
   "cell_type": "code",
   "execution_count": 10,
   "id": "99232c0d",
   "metadata": {},
   "outputs": [
    {
     "data": {
      "text/plain": [
       "64"
      ]
     },
     "execution_count": 10,
     "metadata": {},
     "output_type": "execute_result"
    }
   ],
   "source": [
    "2**6"
   ]
  },
  {
   "cell_type": "code",
   "execution_count": 12,
   "id": "fa0c75e0",
   "metadata": {},
   "outputs": [
    {
     "data": {
      "text/plain": [
       "3.0"
      ]
     },
     "execution_count": 12,
     "metadata": {},
     "output_type": "execute_result"
    }
   ],
   "source": [
    "9**0.5"
   ]
  },
  {
   "cell_type": "code",
   "execution_count": 13,
   "id": "8a189813",
   "metadata": {},
   "outputs": [
    {
     "data": {
      "text/plain": [
       "2"
      ]
     },
     "execution_count": 13,
     "metadata": {},
     "output_type": "execute_result"
    }
   ],
   "source": [
    "#Modulus (returns the remainder of dividing)\n",
    "\n",
    "5 % 3"
   ]
  },
  {
   "cell_type": "code",
   "execution_count": 14,
   "id": "8fa99752",
   "metadata": {},
   "outputs": [
    {
     "data": {
      "text/plain": [
       "6"
      ]
     },
     "execution_count": 14,
     "metadata": {},
     "output_type": "execute_result"
    }
   ],
   "source": [
    "20%7"
   ]
  },
  {
   "cell_type": "code",
   "execution_count": 15,
   "id": "e057a4c4",
   "metadata": {},
   "outputs": [
    {
     "data": {
      "text/plain": [
       "0"
      ]
     },
     "execution_count": 15,
     "metadata": {},
     "output_type": "execute_result"
    }
   ],
   "source": [
    "16%8"
   ]
  },
  {
   "cell_type": "code",
   "execution_count": 16,
   "id": "d7efed11",
   "metadata": {},
   "outputs": [
    {
     "data": {
      "text/plain": [
       "-1"
      ]
     },
     "execution_count": 16,
     "metadata": {},
     "output_type": "execute_result"
    }
   ],
   "source": [
    "5%-3 # r = x - (y * (x // y))."
   ]
  },
  {
   "cell_type": "code",
   "execution_count": 17,
   "id": "377791e1",
   "metadata": {},
   "outputs": [
    {
     "data": {
      "text/plain": [
       "5"
      ]
     },
     "execution_count": 17,
     "metadata": {},
     "output_type": "execute_result"
    }
   ],
   "source": [
    "#Arithmetic Expressions\n",
    "2*3-1 #6-1 = 5"
   ]
  },
  {
   "cell_type": "code",
   "execution_count": 18,
   "id": "e0eadbe5",
   "metadata": {},
   "outputs": [
    {
     "data": {
      "text/plain": [
       "10.0"
      ]
     },
     "execution_count": 18,
     "metadata": {},
     "output_type": "execute_result"
    }
   ],
   "source": [
    "4/2 + 2**3 #2 + 8 = 10"
   ]
  },
  {
   "cell_type": "code",
   "execution_count": 19,
   "id": "ddc06b0d",
   "metadata": {},
   "outputs": [
    {
     "data": {
      "text/plain": [
       "-3"
      ]
     },
     "execution_count": 19,
     "metadata": {},
     "output_type": "execute_result"
    }
   ],
   "source": [
    "-1 + (-3*2 + 4) #-1 + (-6+4) => -1+(-2) = -3"
   ]
  },
  {
   "cell_type": "markdown",
   "id": "98fb061f",
   "metadata": {},
   "source": [
    "#Math Functions and Number Methods\n",
    "- round(), for rounding numbers to some number of decimal places\n",
    "- abs(), for getting the absolute value of a number\n",
    "- pow(), for raising a number to some power"
   ]
  },
  {
   "cell_type": "code",
   "execution_count": 23,
   "id": "8d7d54ea",
   "metadata": {},
   "outputs": [
    {
     "data": {
      "text/plain": [
       "6"
      ]
     },
     "execution_count": 23,
     "metadata": {},
     "output_type": "execute_result"
    }
   ],
   "source": [
    "# round\n",
    "round(5.5)"
   ]
  },
  {
   "cell_type": "code",
   "execution_count": 24,
   "id": "474e0ac3",
   "metadata": {},
   "outputs": [
    {
     "data": {
      "text/plain": [
       "2"
      ]
     },
     "execution_count": 24,
     "metadata": {},
     "output_type": "execute_result"
    }
   ],
   "source": [
    "round(2.3)"
   ]
  },
  {
   "cell_type": "code",
   "execution_count": 25,
   "id": "da18d58c",
   "metadata": {},
   "outputs": [
    {
     "data": {
      "text/plain": [
       "5.1515"
      ]
     },
     "execution_count": 25,
     "metadata": {},
     "output_type": "execute_result"
    }
   ],
   "source": [
    "round(5.15145151, 4)"
   ]
  },
  {
   "cell_type": "code",
   "execution_count": 26,
   "id": "84e89e20",
   "metadata": {},
   "outputs": [
    {
     "data": {
      "text/plain": [
       "3"
      ]
     },
     "execution_count": 26,
     "metadata": {},
     "output_type": "execute_result"
    }
   ],
   "source": [
    "#abs\n",
    "abs(3)"
   ]
  },
  {
   "cell_type": "code",
   "execution_count": 27,
   "id": "0fa0c906",
   "metadata": {},
   "outputs": [
    {
     "data": {
      "text/plain": [
       "5.0"
      ]
     },
     "execution_count": 27,
     "metadata": {},
     "output_type": "execute_result"
    }
   ],
   "source": [
    "abs(-5.0)"
   ]
  },
  {
   "cell_type": "code",
   "execution_count": 28,
   "id": "46bd60d7",
   "metadata": {},
   "outputs": [
    {
     "data": {
      "text/plain": [
       "0.25"
      ]
     },
     "execution_count": 28,
     "metadata": {},
     "output_type": "execute_result"
    }
   ],
   "source": [
    "#pow Power\n",
    "pow(2, -2)"
   ]
  },
  {
   "cell_type": "code",
   "execution_count": 29,
   "id": "ec97d0df",
   "metadata": {},
   "outputs": [
    {
     "data": {
      "text/plain": [
       "16"
      ]
     },
     "execution_count": 29,
     "metadata": {},
     "output_type": "execute_result"
    }
   ],
   "source": [
    "pow(4,2)"
   ]
  },
  {
   "cell_type": "code",
   "execution_count": 30,
   "id": "2501ff4d",
   "metadata": {},
   "outputs": [
    {
     "data": {
      "text/plain": [
       "False"
      ]
     },
     "execution_count": 30,
     "metadata": {},
     "output_type": "execute_result"
    }
   ],
   "source": [
    "num = 2.5\n",
    "num.is_integer()"
   ]
  },
  {
   "cell_type": "code",
   "execution_count": 31,
   "id": "56270fb2",
   "metadata": {},
   "outputs": [
    {
     "data": {
      "text/plain": [
       "True"
      ]
     },
     "execution_count": 31,
     "metadata": {},
     "output_type": "execute_result"
    }
   ],
   "source": [
    "num = 2.0\n",
    "num.is_integer()"
   ]
  },
  {
   "cell_type": "code",
   "execution_count": 32,
   "id": "66f9f06b",
   "metadata": {},
   "outputs": [
    {
     "data": {
      "text/plain": [
       "'The value of x1 is: 5'"
      ]
     },
     "execution_count": 32,
     "metadata": {},
     "output_type": "execute_result"
    }
   ],
   "source": [
    "#Print Numbers in Style\n",
    "\n",
    "x1 = 5\n",
    "\n",
    "f\"The value of x1 is: {x1}\""
   ]
  },
  {
   "cell_type": "code",
   "execution_count": 34,
   "id": "3f16d373",
   "metadata": {},
   "outputs": [
    {
     "data": {
      "text/plain": [
       "'The value of x2 is: 5.47'"
      ]
     },
     "execution_count": 34,
     "metadata": {},
     "output_type": "execute_result"
    }
   ],
   "source": [
    "x2 = 5.4656464\n",
    "\n",
    "f\"The value of x2 is: {x2:.2f}\""
   ]
  },
  {
   "cell_type": "code",
   "execution_count": 35,
   "id": "7318c7c5",
   "metadata": {},
   "outputs": [
    {
     "data": {
      "text/plain": [
       "'The value of x2 is: 1.00'"
      ]
     },
     "execution_count": 35,
     "metadata": {},
     "output_type": "execute_result"
    }
   ],
   "source": [
    "x3 = 1\n",
    "\n",
    "f\"The value of x2 is: {x3:.2f}\""
   ]
  },
  {
   "cell_type": "code",
   "execution_count": 36,
   "id": "bc6d9c2e",
   "metadata": {},
   "outputs": [
    {
     "data": {
      "text/plain": [
       "'The value of x2 is: 15,221,656,265,652,652,564'"
      ]
     },
     "execution_count": 36,
     "metadata": {},
     "output_type": "execute_result"
    }
   ],
   "source": [
    "x4 = 15221656265652652564\n",
    "f\"The value of x2 is: {x4:,}\""
   ]
  },
  {
   "cell_type": "code",
   "execution_count": 37,
   "id": "684f35c9",
   "metadata": {},
   "outputs": [
    {
     "data": {
      "text/plain": [
       "'The value of x2 is: 65,562,665,695.53'"
      ]
     },
     "execution_count": 37,
     "metadata": {},
     "output_type": "execute_result"
    }
   ],
   "source": [
    "x5 = 65562665695.52525\n",
    "f\"The value of x2 is: {x5:,.2f}\""
   ]
  },
  {
   "cell_type": "code",
   "execution_count": 38,
   "id": "0929c1de",
   "metadata": {},
   "outputs": [
    {
     "data": {
      "text/plain": [
       "'After spending $256.32, I was left with $1743.68'"
      ]
     },
     "execution_count": 38,
     "metadata": {},
     "output_type": "execute_result"
    }
   ],
   "source": [
    "balance = 2000.0\n",
    "spent = 256.32\n",
    "remaining = balance - spent\n",
    "\n",
    "f\"After spending ${spent:.2f}, I was left with ${remaining:.2f}\""
   ]
  },
  {
   "cell_type": "code",
   "execution_count": 49,
   "id": "164e10cc",
   "metadata": {},
   "outputs": [],
   "source": [
    "#complex number\n",
    "c1 = 1+2j"
   ]
  },
  {
   "cell_type": "code",
   "execution_count": 50,
   "id": "23c90076",
   "metadata": {},
   "outputs": [
    {
     "data": {
      "text/plain": [
       "1.0"
      ]
     },
     "execution_count": 50,
     "metadata": {},
     "output_type": "execute_result"
    }
   ],
   "source": [
    "c1.real"
   ]
  },
  {
   "cell_type": "code",
   "execution_count": 51,
   "id": "b4386ba4",
   "metadata": {},
   "outputs": [
    {
     "data": {
      "text/plain": [
       "2.0"
      ]
     },
     "execution_count": 51,
     "metadata": {},
     "output_type": "execute_result"
    }
   ],
   "source": [
    "c1.imag"
   ]
  },
  {
   "cell_type": "code",
   "execution_count": 52,
   "id": "b1b7c68a",
   "metadata": {},
   "outputs": [
    {
     "data": {
      "text/plain": [
       "(1-2j)"
      ]
     },
     "execution_count": 52,
     "metadata": {},
     "output_type": "execute_result"
    }
   ],
   "source": [
    "c1.conjugate()"
   ]
  },
  {
   "cell_type": "code",
   "execution_count": 53,
   "id": "3ca2c055",
   "metadata": {},
   "outputs": [],
   "source": [
    "c2 = 1 +2j\n",
    "c3 = 3-4j"
   ]
  },
  {
   "cell_type": "code",
   "execution_count": 54,
   "id": "f250faf0",
   "metadata": {},
   "outputs": [
    {
     "data": {
      "text/plain": [
       "(4-2j)"
      ]
     },
     "execution_count": 54,
     "metadata": {},
     "output_type": "execute_result"
    }
   ],
   "source": [
    "c2+c3"
   ]
  },
  {
   "cell_type": "code",
   "execution_count": 55,
   "id": "606fdded",
   "metadata": {},
   "outputs": [
    {
     "data": {
      "text/plain": [
       "(-2+6j)"
      ]
     },
     "execution_count": 55,
     "metadata": {},
     "output_type": "execute_result"
    }
   ],
   "source": [
    "c2-c3"
   ]
  },
  {
   "cell_type": "code",
   "execution_count": 56,
   "id": "de183ef5",
   "metadata": {},
   "outputs": [
    {
     "data": {
      "text/plain": [
       "(11+2j)"
      ]
     },
     "execution_count": 56,
     "metadata": {},
     "output_type": "execute_result"
    }
   ],
   "source": [
    "c2*c3"
   ]
  },
  {
   "cell_type": "code",
   "execution_count": null,
   "id": "e0c84103",
   "metadata": {},
   "outputs": [],
   "source": [
    "#relational oprators - <, >, ==, !="
   ]
  },
  {
   "cell_type": "code",
   "execution_count": 13,
   "id": "de9ed5da",
   "metadata": {},
   "outputs": [
    {
     "data": {
      "text/plain": [
       "(40, 60)"
      ]
     },
     "execution_count": 13,
     "metadata": {},
     "output_type": "execute_result"
    }
   ],
   "source": [
    "n1, n2"
   ]
  },
  {
   "cell_type": "code",
   "execution_count": 121,
   "id": "bafd3593",
   "metadata": {},
   "outputs": [
    {
     "data": {
      "text/plain": [
       "True"
      ]
     },
     "execution_count": 121,
     "metadata": {},
     "output_type": "execute_result"
    }
   ],
   "source": [
    "n1 < n2"
   ]
  },
  {
   "cell_type": "code",
   "execution_count": 15,
   "id": "cadf9764",
   "metadata": {},
   "outputs": [
    {
     "data": {
      "text/plain": [
       "False"
      ]
     },
     "execution_count": 15,
     "metadata": {},
     "output_type": "execute_result"
    }
   ],
   "source": [
    "n1 > n2"
   ]
  },
  {
   "cell_type": "code",
   "execution_count": 16,
   "id": "61847e84",
   "metadata": {},
   "outputs": [
    {
     "data": {
      "text/plain": [
       "False"
      ]
     },
     "execution_count": 16,
     "metadata": {},
     "output_type": "execute_result"
    }
   ],
   "source": [
    "n1 == n2"
   ]
  },
  {
   "cell_type": "code",
   "execution_count": 17,
   "id": "02d3b511",
   "metadata": {},
   "outputs": [
    {
     "data": {
      "text/plain": [
       "True"
      ]
     },
     "execution_count": 17,
     "metadata": {},
     "output_type": "execute_result"
    }
   ],
   "source": [
    "n1 != n2"
   ]
  },
  {
   "cell_type": "code",
   "execution_count": 18,
   "id": "a641a2fa",
   "metadata": {},
   "outputs": [],
   "source": [
    "#logical oprator - &, |"
   ]
  },
  {
   "cell_type": "code",
   "execution_count": 19,
   "id": "c1139b45",
   "metadata": {},
   "outputs": [],
   "source": [
    "l1 = True\n",
    "l2 = False"
   ]
  },
  {
   "cell_type": "code",
   "execution_count": 20,
   "id": "5e7b14a4",
   "metadata": {},
   "outputs": [
    {
     "data": {
      "text/plain": [
       "False"
      ]
     },
     "execution_count": 20,
     "metadata": {},
     "output_type": "execute_result"
    }
   ],
   "source": [
    "l1 & l2"
   ]
  },
  {
   "cell_type": "code",
   "execution_count": 21,
   "id": "f0f45745",
   "metadata": {},
   "outputs": [
    {
     "data": {
      "text/plain": [
       "False"
      ]
     },
     "execution_count": 21,
     "metadata": {},
     "output_type": "execute_result"
    }
   ],
   "source": [
    "l2 & l1"
   ]
  },
  {
   "cell_type": "code",
   "execution_count": 22,
   "id": "ef3227ad",
   "metadata": {},
   "outputs": [
    {
     "data": {
      "text/plain": [
       "True"
      ]
     },
     "execution_count": 22,
     "metadata": {},
     "output_type": "execute_result"
    }
   ],
   "source": [
    "l1 & l1"
   ]
  },
  {
   "cell_type": "code",
   "execution_count": 23,
   "id": "d5502b5e",
   "metadata": {},
   "outputs": [
    {
     "data": {
      "text/plain": [
       "False"
      ]
     },
     "execution_count": 23,
     "metadata": {},
     "output_type": "execute_result"
    }
   ],
   "source": [
    "l2 & l2"
   ]
  },
  {
   "cell_type": "code",
   "execution_count": 24,
   "id": "7a384243",
   "metadata": {},
   "outputs": [
    {
     "data": {
      "text/plain": [
       "True"
      ]
     },
     "execution_count": 24,
     "metadata": {},
     "output_type": "execute_result"
    }
   ],
   "source": [
    "l1 | l2"
   ]
  },
  {
   "cell_type": "code",
   "execution_count": 25,
   "id": "5a86c101",
   "metadata": {},
   "outputs": [
    {
     "data": {
      "text/plain": [
       "True"
      ]
     },
     "execution_count": 25,
     "metadata": {},
     "output_type": "execute_result"
    }
   ],
   "source": [
    "l2 | l1"
   ]
  },
  {
   "cell_type": "code",
   "execution_count": 26,
   "id": "4104fda7",
   "metadata": {},
   "outputs": [
    {
     "data": {
      "text/plain": [
       "True"
      ]
     },
     "execution_count": 26,
     "metadata": {},
     "output_type": "execute_result"
    }
   ],
   "source": [
    "l1 | l1"
   ]
  },
  {
   "cell_type": "code",
   "execution_count": 27,
   "id": "e3325bca",
   "metadata": {},
   "outputs": [
    {
     "data": {
      "text/plain": [
       "False"
      ]
     },
     "execution_count": 27,
     "metadata": {},
     "output_type": "execute_result"
    }
   ],
   "source": [
    "l2 | l2"
   ]
  },
  {
   "cell_type": "code",
   "execution_count": 28,
   "id": "5358b46e",
   "metadata": {},
   "outputs": [],
   "source": [
    "#string"
   ]
  },
  {
   "cell_type": "code",
   "execution_count": 4,
   "id": "ac8c5c84",
   "metadata": {},
   "outputs": [
    {
     "data": {
      "text/plain": [
       "'hi nanthini how are you i am good nirmal'"
      ]
     },
     "execution_count": 4,
     "metadata": {},
     "output_type": "execute_result"
    }
   ],
   "source": [
    "str3 = '''hi nanthini how are you i am good nirmal'''\n",
    "str3"
   ]
  },
  {
   "cell_type": "code",
   "execution_count": 1,
   "id": "87f4b209",
   "metadata": {},
   "outputs": [
    {
     "data": {
      "text/plain": [
       "31"
      ]
     },
     "execution_count": 1,
     "metadata": {},
     "output_type": "execute_result"
    }
   ],
   "source": [
    "str4 = \"This is my first python program\"\n",
    "len(str4)"
   ]
  },
  {
   "cell_type": "markdown",
   "id": "5c877c2d",
   "metadata": {},
   "source": [
    "<h2 style=\"color:orange;font-size:30px;\">String Slicing</h2>"
   ]
  },
  {
   "cell_type": "code",
   "execution_count": 3,
   "id": "cc1b4208",
   "metadata": {},
   "outputs": [],
   "source": [
    "str4 = \"This is my first python program\""
   ]
  },
  {
   "cell_type": "code",
   "execution_count": 6,
   "id": "d368ddaf",
   "metadata": {},
   "outputs": [
    {
     "data": {
      "text/plain": [
       "'T'"
      ]
     },
     "execution_count": 6,
     "metadata": {},
     "output_type": "execute_result"
    }
   ],
   "source": [
    "str4[0]"
   ]
  },
  {
   "cell_type": "code",
   "execution_count": 7,
   "id": "e354a870",
   "metadata": {},
   "outputs": [
    {
     "data": {
      "text/plain": [
       "'m'"
      ]
     },
     "execution_count": 7,
     "metadata": {},
     "output_type": "execute_result"
    }
   ],
   "source": [
    "str4[-1]"
   ]
  },
  {
   "cell_type": "code",
   "execution_count": 8,
   "id": "c8a17db7",
   "metadata": {},
   "outputs": [
    {
     "data": {
      "text/plain": [
       "'is '"
      ]
     },
     "execution_count": 8,
     "metadata": {},
     "output_type": "execute_result"
    }
   ],
   "source": [
    "str4[2:5]"
   ]
  },
  {
   "cell_type": "code",
   "execution_count": 10,
   "id": "82a63622",
   "metadata": {},
   "outputs": [
    {
     "data": {
      "text/plain": [
       "'hsi y'"
      ]
     },
     "execution_count": 10,
     "metadata": {},
     "output_type": "execute_result"
    }
   ],
   "source": [
    "str4[1:10:2]"
   ]
  },
  {
   "cell_type": "code",
   "execution_count": 4,
   "id": "ea656a60",
   "metadata": {},
   "outputs": [
    {
     "data": {
      "text/plain": [
       "'This is my first python program'"
      ]
     },
     "execution_count": 4,
     "metadata": {},
     "output_type": "execute_result"
    }
   ],
   "source": [
    "str4[:]"
   ]
  },
  {
   "cell_type": "code",
   "execution_count": 12,
   "id": "40b082f6",
   "metadata": {},
   "outputs": [
    {
     "data": {
      "text/plain": [
       "'is my first python program'"
      ]
     },
     "execution_count": 12,
     "metadata": {},
     "output_type": "execute_result"
    }
   ],
   "source": [
    "str4[5:]"
   ]
  },
  {
   "cell_type": "code",
   "execution_count": 13,
   "id": "d14d8234",
   "metadata": {},
   "outputs": [
    {
     "data": {
      "text/plain": [
       "'This '"
      ]
     },
     "execution_count": 13,
     "metadata": {},
     "output_type": "execute_result"
    }
   ],
   "source": [
    "str4[:5]"
   ]
  },
  {
   "cell_type": "code",
   "execution_count": 5,
   "id": "15d3fc9a",
   "metadata": {},
   "outputs": [
    {
     "data": {
      "text/plain": [
       "'This is my first python pr'"
      ]
     },
     "execution_count": 5,
     "metadata": {},
     "output_type": "execute_result"
    }
   ],
   "source": [
    "str4[:-5]"
   ]
  },
  {
   "cell_type": "code",
   "execution_count": 6,
   "id": "adcb2657",
   "metadata": {},
   "outputs": [
    {
     "data": {
      "text/plain": [
       "'ogram'"
      ]
     },
     "execution_count": 6,
     "metadata": {},
     "output_type": "execute_result"
    }
   ],
   "source": [
    "str4[-5:]"
   ]
  },
  {
   "cell_type": "code",
   "execution_count": 14,
   "id": "e55e2cc5",
   "metadata": {},
   "outputs": [
    {
     "data": {
      "text/plain": [
       "'margorp nohtyp tsrif ym si sihT'"
      ]
     },
     "execution_count": 14,
     "metadata": {},
     "output_type": "execute_result"
    }
   ],
   "source": [
    "str4[::-1]"
   ]
  },
  {
   "cell_type": "code",
   "execution_count": 15,
   "id": "a95ed0dc",
   "metadata": {},
   "outputs": [
    {
     "data": {
      "text/plain": [
       "''"
      ]
     },
     "execution_count": 15,
     "metadata": {},
     "output_type": "execute_result"
    }
   ],
   "source": [
    "str4[-1:-2]"
   ]
  },
  {
   "cell_type": "code",
   "execution_count": 16,
   "id": "0788af41",
   "metadata": {},
   "outputs": [
    {
     "data": {
      "text/plain": [
       "'a'"
      ]
     },
     "execution_count": 16,
     "metadata": {},
     "output_type": "execute_result"
    }
   ],
   "source": [
    "str4[-2:-1]"
   ]
  },
  {
   "cell_type": "code",
   "execution_count": 18,
   "id": "229ac15e",
   "metadata": {},
   "outputs": [
    {
     "data": {
      "text/plain": [
       "'Ti sm is yhnpor'"
      ]
     },
     "execution_count": 18,
     "metadata": {},
     "output_type": "execute_result"
    }
   ],
   "source": [
    "str4[:-1:2]"
   ]
  },
  {
   "cell_type": "code",
   "execution_count": 33,
   "id": "4ef4e4e2",
   "metadata": {},
   "outputs": [
    {
     "name": "stdout",
     "output_type": "stream",
     "text": [
      "fgoal\n"
     ]
    }
   ],
   "source": [
    "word = \"goal\"\n",
    "word = \"f\" + word[0:]\n",
    "print(word)"
   ]
  },
  {
   "cell_type": "code",
   "execution_count": 34,
   "id": "f87ad965",
   "metadata": {},
   "outputs": [
    {
     "name": "stdout",
     "output_type": "stream",
     "text": [
      "foal\n"
     ]
    }
   ],
   "source": [
    "word = \"goal\"\n",
    "word = \"f\" + word[1:]\n",
    "print(word)"
   ]
  },
  {
   "cell_type": "code",
   "execution_count": 37,
   "id": "d24a9aac",
   "metadata": {},
   "outputs": [],
   "source": [
    "#Manipulate Strings With Methods"
   ]
  },
  {
   "cell_type": "code",
   "execution_count": 38,
   "id": "c950b3ff",
   "metadata": {},
   "outputs": [
    {
     "data": {
      "text/plain": [
       "'this is my first python program'"
      ]
     },
     "execution_count": 38,
     "metadata": {},
     "output_type": "execute_result"
    }
   ],
   "source": [
    "str4.lower()"
   ]
  },
  {
   "cell_type": "code",
   "execution_count": 39,
   "id": "7b6d63d0",
   "metadata": {},
   "outputs": [
    {
     "data": {
      "text/plain": [
       "'THIS IS MY FIRST PYTHON PROGRAM'"
      ]
     },
     "execution_count": 39,
     "metadata": {},
     "output_type": "execute_result"
    }
   ],
   "source": [
    "str4.upper()"
   ]
  },
  {
   "cell_type": "code",
   "execution_count": 27,
   "id": "e3ba4d57",
   "metadata": {},
   "outputs": [
    {
     "data": {
      "text/plain": [
       "'This is my first python program'"
      ]
     },
     "execution_count": 27,
     "metadata": {},
     "output_type": "execute_result"
    }
   ],
   "source": [
    "str4.capitalize()"
   ]
  },
  {
   "cell_type": "code",
   "execution_count": 28,
   "id": "0277e641",
   "metadata": {},
   "outputs": [
    {
     "data": {
      "text/plain": [
       "'This Is My First Python Program'"
      ]
     },
     "execution_count": 28,
     "metadata": {},
     "output_type": "execute_result"
    }
   ],
   "source": [
    "str4.title()"
   ]
  },
  {
   "cell_type": "code",
   "execution_count": 21,
   "id": "e4b653d0",
   "metadata": {},
   "outputs": [
    {
     "data": {
      "text/plain": [
       "'This is my 1st python program'"
      ]
     },
     "execution_count": 21,
     "metadata": {},
     "output_type": "execute_result"
    }
   ],
   "source": [
    "str4.replace(\"first\", \"1st\")"
   ]
  },
  {
   "cell_type": "code",
   "execution_count": 22,
   "id": "2ebbe0cd",
   "metadata": {},
   "outputs": [
    {
     "data": {
      "text/plain": [
       "['This', 'is', 'my', 'first', 'python', 'program']"
      ]
     },
     "execution_count": 22,
     "metadata": {},
     "output_type": "execute_result"
    }
   ],
   "source": [
    "str4.split()"
   ]
  },
  {
   "cell_type": "code",
   "execution_count": 24,
   "id": "a4aefb1e",
   "metadata": {},
   "outputs": [
    {
     "data": {
      "text/plain": [
       "'I love data analytics'"
      ]
     },
     "execution_count": 24,
     "metadata": {},
     "output_type": "execute_result"
    }
   ],
   "source": [
    "str5 = \"      I love data analytics     \"\n",
    "str5.strip()"
   ]
  },
  {
   "cell_type": "code",
   "execution_count": 25,
   "id": "5b457d1c",
   "metadata": {},
   "outputs": [
    {
     "data": {
      "text/plain": [
       "'I love data analytics     '"
      ]
     },
     "execution_count": 25,
     "metadata": {},
     "output_type": "execute_result"
    }
   ],
   "source": [
    "str5.lstrip()"
   ]
  },
  {
   "cell_type": "code",
   "execution_count": 26,
   "id": "f6845f24",
   "metadata": {},
   "outputs": [
    {
     "data": {
      "text/plain": [
       "'      I love data analytics'"
      ]
     },
     "execution_count": 26,
     "metadata": {},
     "output_type": "execute_result"
    }
   ],
   "source": [
    "str5.rstrip()"
   ]
  },
  {
   "cell_type": "code",
   "execution_count": 42,
   "id": "6e72902c",
   "metadata": {},
   "outputs": [
    {
     "data": {
      "text/plain": [
       "True"
      ]
     },
     "execution_count": 42,
     "metadata": {},
     "output_type": "execute_result"
    }
   ],
   "source": [
    "str6 = \"I love cricket\"\n",
    "str6.startswith(\"I love\")"
   ]
  },
  {
   "cell_type": "code",
   "execution_count": 43,
   "id": "00ad5a63",
   "metadata": {},
   "outputs": [
    {
     "data": {
      "text/plain": [
       "True"
      ]
     },
     "execution_count": 43,
     "metadata": {},
     "output_type": "execute_result"
    }
   ],
   "source": [
    "str6.endswith(\"et\")"
   ]
  },
  {
   "cell_type": "code",
   "execution_count": 46,
   "id": "9891d18d",
   "metadata": {},
   "outputs": [
    {
     "data": {
      "text/plain": [
       "False"
      ]
     },
     "execution_count": 46,
     "metadata": {},
     "output_type": "execute_result"
    }
   ],
   "source": [
    "str6.startswith(\"i\")"
   ]
  },
  {
   "cell_type": "code",
   "execution_count": 47,
   "id": "fa94bb60",
   "metadata": {},
   "outputs": [
    {
     "data": {
      "text/plain": [
       "False"
      ]
     },
     "execution_count": 47,
     "metadata": {},
     "output_type": "execute_result"
    }
   ],
   "source": [
    "str6.endswith(\"a\")"
   ]
  },
  {
   "cell_type": "code",
   "execution_count": 49,
   "id": "fc4d165b",
   "metadata": {},
   "outputs": [
    {
     "name": "stdout",
     "output_type": "stream",
     "text": [
      "Hay what's up? Good buddy\n",
      "You said: Good buddy\n"
     ]
    }
   ],
   "source": [
    "msg = \"Hay what's up? \"\n",
    "user_input = input(msg)\n",
    "print(\"You said:\", user_input)"
   ]
  },
  {
   "cell_type": "code",
   "execution_count": 50,
   "id": "7d05682f",
   "metadata": {},
   "outputs": [
    {
     "data": {
      "text/plain": [
       "'22'"
      ]
     },
     "execution_count": 50,
     "metadata": {},
     "output_type": "execute_result"
    }
   ],
   "source": [
    "#Strings and Arithmetic Operators\n",
    "num = \"2\"\n",
    "num + num"
   ]
  },
  {
   "cell_type": "code",
   "execution_count": 51,
   "id": "583c5d08",
   "metadata": {},
   "outputs": [
    {
     "data": {
      "text/plain": [
       "'22222'"
      ]
     },
     "execution_count": 51,
     "metadata": {},
     "output_type": "execute_result"
    }
   ],
   "source": [
    "num  * 5"
   ]
  },
  {
   "cell_type": "code",
   "execution_count": 52,
   "id": "43cbe0c2",
   "metadata": {},
   "outputs": [
    {
     "name": "stdout",
     "output_type": "stream",
     "text": [
      "Enter a number to be doubled: 5\n",
      "55\n"
     ]
    }
   ],
   "source": [
    "num = input(\"Enter a number to be doubled: \")\n",
    "doubled_num = num * 2\n",
    "print(doubled_num)"
   ]
  },
  {
   "cell_type": "code",
   "execution_count": 54,
   "id": "716891d0",
   "metadata": {},
   "outputs": [
    {
     "data": {
      "text/plain": [
       "55"
      ]
     },
     "execution_count": 54,
     "metadata": {},
     "output_type": "execute_result"
    }
   ],
   "source": [
    "#Converting Strings to Numbers\n",
    "int(\"55\")"
   ]
  },
  {
   "cell_type": "code",
   "execution_count": 55,
   "id": "8cc991f6",
   "metadata": {},
   "outputs": [
    {
     "data": {
      "text/plain": [
       "55.0"
      ]
     },
     "execution_count": 55,
     "metadata": {},
     "output_type": "execute_result"
    }
   ],
   "source": [
    "float(\"55\")"
   ]
  },
  {
   "cell_type": "code",
   "execution_count": 58,
   "id": "614df986",
   "metadata": {},
   "outputs": [
    {
     "ename": "ValueError",
     "evalue": "invalid literal for int() with base 10: '12.0'",
     "output_type": "error",
     "traceback": [
      "\u001b[1;31m---------------------------------------------------------------------------\u001b[0m",
      "\u001b[1;31mValueError\u001b[0m                                Traceback (most recent call last)",
      "\u001b[1;32m<ipython-input-58-dcb4d0c2560f>\u001b[0m in \u001b[0;36m<module>\u001b[1;34m\u001b[0m\n\u001b[1;32m----> 1\u001b[1;33m \u001b[0mint\u001b[0m\u001b[1;33m(\u001b[0m\u001b[1;34m\"12.0\"\u001b[0m\u001b[1;33m)\u001b[0m\u001b[1;33m\u001b[0m\u001b[1;33m\u001b[0m\u001b[0m\n\u001b[0m",
      "\u001b[1;31mValueError\u001b[0m: invalid literal for int() with base 10: '12.0'"
     ]
    }
   ],
   "source": [
    "int(\"12.0\")"
   ]
  },
  {
   "cell_type": "code",
   "execution_count": 59,
   "id": "61aea564",
   "metadata": {},
   "outputs": [
    {
     "data": {
      "text/plain": [
       "'I am going to eat 10 cupcakes'"
      ]
     },
     "execution_count": 59,
     "metadata": {},
     "output_type": "execute_result"
    }
   ],
   "source": [
    "#Converting Numbers to Strings\n",
    "cupcakes = 10\n",
    "\"I am going to eat \" + str(cupcakes) + \" cupcakes\""
   ]
  },
  {
   "cell_type": "code",
   "execution_count": 60,
   "id": "112a7ff4",
   "metadata": {},
   "outputs": [
    {
     "data": {
      "text/plain": [
       "'I am going to eat 10 cupcakes'"
      ]
     },
     "execution_count": 60,
     "metadata": {},
     "output_type": "execute_result"
    }
   ],
   "source": [
    "cupcakes = 10\n",
    "\"I am going to eat \" + str(10) + \" cupcakes\""
   ]
  },
  {
   "cell_type": "code",
   "execution_count": 62,
   "id": "384976fd",
   "metadata": {},
   "outputs": [
    {
     "data": {
      "text/plain": [
       "'Only 5 cupcakes left.'"
      ]
     },
     "execution_count": 62,
     "metadata": {},
     "output_type": "execute_result"
    }
   ],
   "source": [
    "total_cupcakes = 10\n",
    "cupcakes_eaten = 5\n",
    "\n",
    "\"Only \" + str(total_cupcakes - cupcakes_eaten) + \" cupcakes left.\""
   ]
  },
  {
   "cell_type": "code",
   "execution_count": 68,
   "id": "8921ad77",
   "metadata": {},
   "outputs": [
    {
     "data": {
      "text/plain": [
       "'My self Nirmal kumar, i am from Kumbakonam, my age is 27, i have completd B.E(ECE).'"
      ]
     },
     "execution_count": 68,
     "metadata": {},
     "output_type": "execute_result"
    }
   ],
   "source": [
    "name = \"Nirmal kumar\"\n",
    "place = \"Kumbakonam\"\n",
    "age = \"27\"\n",
    "dgree = \"B.E(ECE)\"\n",
    "\n",
    "f\"My self {name}, i am from {place}, my age is {age}, i have completd {dgree}.\""
   ]
  },
  {
   "cell_type": "code",
   "execution_count": 64,
   "id": "e5abf263",
   "metadata": {},
   "outputs": [
    {
     "data": {
      "text/plain": [
       "'3 times 4 is 12'"
      ]
     },
     "execution_count": 64,
     "metadata": {},
     "output_type": "execute_result"
    }
   ],
   "source": [
    "n = 3\n",
    "m = 4\n",
    "f\"{n} times {m} is {n*m}\""
   ]
  },
  {
   "cell_type": "code",
   "execution_count": 71,
   "id": "2a104292",
   "metadata": {},
   "outputs": [],
   "source": [
    "newstring = 'nirmal is good boy is good person good solemate good chrater'"
   ]
  },
  {
   "cell_type": "code",
   "execution_count": 73,
   "id": "ea84867e",
   "metadata": {},
   "outputs": [
    {
     "data": {
      "text/plain": [
       "4"
      ]
     },
     "execution_count": 73,
     "metadata": {},
     "output_type": "execute_result"
    }
   ],
   "source": [
    "newstring.count(\"good\")"
   ]
  },
  {
   "cell_type": "code",
   "execution_count": 53,
   "id": "08d798a4",
   "metadata": {},
   "outputs": [],
   "source": [
    "# find index"
   ]
  },
  {
   "cell_type": "code",
   "execution_count": 54,
   "id": "ee91ee9f",
   "metadata": {},
   "outputs": [
    {
     "data": {
      "text/plain": [
       "39"
      ]
     },
     "execution_count": 54,
     "metadata": {},
     "output_type": "execute_result"
    }
   ],
   "source": [
    "newstring.find('solemate')"
   ]
  },
  {
   "cell_type": "code",
   "execution_count": 55,
   "id": "a8dfb9e5",
   "metadata": {},
   "outputs": [],
   "source": [
    "course = 'i have complete course, XML, Sql, html, pyrhon, tableau, powerBi, excel'"
   ]
  },
  {
   "cell_type": "code",
   "execution_count": 56,
   "id": "bdcb72d5",
   "metadata": {},
   "outputs": [
    {
     "data": {
      "text/plain": [
       "['i have complete course',\n",
       " ' XML',\n",
       " ' Sql',\n",
       " ' html',\n",
       " ' pyrhon',\n",
       " ' tableau',\n",
       " ' powerBi',\n",
       " ' excel']"
      ]
     },
     "execution_count": 56,
     "metadata": {},
     "output_type": "execute_result"
    }
   ],
   "source": [
    "course.split(',')"
   ]
  },
  {
   "cell_type": "markdown",
   "id": "f5a75b3c",
   "metadata": {},
   "source": [
    "<h2 style=\"color:red;font-size:30px;\">List</h2>\n"
   ]
  },
  {
   "cell_type": "markdown",
   "id": "d5d83310",
   "metadata": {},
   "source": [
    "1. Lists are used to store multiple items in a single variable.\n",
    "2. Lists are created using square brackets\n",
    "3. List items are ordered, changeable, and allow duplicate values.\n",
    "4. Lists are one of 4 built-in data types in Python used to store collections of data"
   ]
  },
  {
   "cell_type": "markdown",
   "id": "f4e39ead",
   "metadata": {},
   "source": [
    "l1 =[1,'a',2,'b',3,'c']"
   ]
  },
  {
   "cell_type": "code",
   "execution_count": 3,
   "id": "300e65d2",
   "metadata": {},
   "outputs": [
    {
     "data": {
      "text/plain": [
       "list"
      ]
     },
     "execution_count": 3,
     "metadata": {},
     "output_type": "execute_result"
    }
   ],
   "source": [
    "type(l1)"
   ]
  },
  {
   "cell_type": "code",
   "execution_count": 4,
   "id": "683a4056",
   "metadata": {},
   "outputs": [
    {
     "data": {
      "text/plain": [
       "'b'"
      ]
     },
     "execution_count": 4,
     "metadata": {},
     "output_type": "execute_result"
    }
   ],
   "source": [
    "l1[3]"
   ]
  },
  {
   "cell_type": "code",
   "execution_count": 5,
   "id": "5899643a",
   "metadata": {},
   "outputs": [
    {
     "data": {
      "text/plain": [
       "[1, 'a', 2]"
      ]
     },
     "execution_count": 5,
     "metadata": {},
     "output_type": "execute_result"
    }
   ],
   "source": [
    "l1[0:3]"
   ]
  },
  {
   "cell_type": "code",
   "execution_count": 6,
   "id": "598603eb",
   "metadata": {},
   "outputs": [
    {
     "data": {
      "text/plain": [
       "[1, 'a', 2, 'b', 3, 'c']"
      ]
     },
     "execution_count": 6,
     "metadata": {},
     "output_type": "execute_result"
    }
   ],
   "source": [
    "l1[:]"
   ]
  },
  {
   "cell_type": "code",
   "execution_count": 7,
   "id": "344c005c",
   "metadata": {},
   "outputs": [
    {
     "data": {
      "text/plain": [
       "['b', 3, 'c']"
      ]
     },
     "execution_count": 7,
     "metadata": {},
     "output_type": "execute_result"
    }
   ],
   "source": [
    "l1[3:]"
   ]
  },
  {
   "cell_type": "code",
   "execution_count": 8,
   "id": "30e02853",
   "metadata": {},
   "outputs": [
    {
     "data": {
      "text/plain": [
       "[1, 'a', 2, 'b']"
      ]
     },
     "execution_count": 8,
     "metadata": {},
     "output_type": "execute_result"
    }
   ],
   "source": [
    "l1[:4]"
   ]
  },
  {
   "cell_type": "code",
   "execution_count": 9,
   "id": "7fa6e157",
   "metadata": {},
   "outputs": [
    {
     "data": {
      "text/plain": [
       "['c', 3, 'b', 2, 'a', 1]"
      ]
     },
     "execution_count": 9,
     "metadata": {},
     "output_type": "execute_result"
    }
   ],
   "source": [
    "l1[::-1] #list reverse"
   ]
  },
  {
   "cell_type": "code",
   "execution_count": 12,
   "id": "24a48232",
   "metadata": {},
   "outputs": [
    {
     "data": {
      "text/plain": [
       "['c']"
      ]
     },
     "execution_count": 12,
     "metadata": {},
     "output_type": "execute_result"
    }
   ],
   "source": [
    "l1[-1:]"
   ]
  },
  {
   "cell_type": "code",
   "execution_count": 13,
   "id": "5e0b5999",
   "metadata": {},
   "outputs": [
    {
     "data": {
      "text/plain": [
       "[1, 'a', 2, 'b', 3]"
      ]
     },
     "execution_count": 13,
     "metadata": {},
     "output_type": "execute_result"
    }
   ],
   "source": [
    "l1[:-1]"
   ]
  },
  {
   "cell_type": "code",
   "execution_count": 14,
   "id": "aa532fcc",
   "metadata": {},
   "outputs": [
    {
     "data": {
      "text/plain": [
       "[1, 2, 3]"
      ]
     },
     "execution_count": 14,
     "metadata": {},
     "output_type": "execute_result"
    }
   ],
   "source": [
    "l1[:5:2]"
   ]
  },
  {
   "cell_type": "code",
   "execution_count": 11,
   "id": "5dfa04a7",
   "metadata": {},
   "outputs": [
    {
     "data": {
      "text/plain": [
       "['a', 2, 'b']"
      ]
     },
     "execution_count": 11,
     "metadata": {},
     "output_type": "execute_result"
    }
   ],
   "source": [
    "l1[1:-2]"
   ]
  },
  {
   "cell_type": "code",
   "execution_count": 26,
   "id": "07016375",
   "metadata": {},
   "outputs": [
    {
     "data": {
      "text/plain": [
       "True"
      ]
     },
     "execution_count": 26,
     "metadata": {},
     "output_type": "execute_result"
    }
   ],
   "source": [
    "# Check existence of an element\n",
    "2 in l1"
   ]
  },
  {
   "cell_type": "code",
   "execution_count": 29,
   "id": "97f0af20",
   "metadata": {},
   "outputs": [
    {
     "data": {
      "text/plain": [
       "False"
      ]
     },
     "execution_count": 29,
     "metadata": {},
     "output_type": "execute_result"
    }
   ],
   "source": [
    "\"d\" in l1"
   ]
  },
  {
   "cell_type": "code",
   "execution_count": 16,
   "id": "0a1071c1",
   "metadata": {},
   "outputs": [
    {
     "data": {
      "text/plain": [
       "[4, 5, 'nirmal', 555.5, 'python', 'data analytics']"
      ]
     },
     "execution_count": 16,
     "metadata": {},
     "output_type": "execute_result"
    }
   ],
   "source": [
    "lst =[4, 5, \"nirmal\", 555.5, \"python\", \"data analytics\"]\n",
    "lst"
   ]
  },
  {
   "cell_type": "code",
   "execution_count": 18,
   "id": "c503997c",
   "metadata": {},
   "outputs": [
    {
     "data": {
      "text/plain": [
       "[4, 5, 'nirmal', 555.5, 'python', 'data analytics', 'tableau', 'tableau']"
      ]
     },
     "execution_count": 18,
     "metadata": {},
     "output_type": "execute_result"
    }
   ],
   "source": [
    "lst.append(\"tableau\") #Insert the value x at the end of the list\n",
    "lst"
   ]
  },
  {
   "cell_type": "code",
   "execution_count": 19,
   "id": "b7088218",
   "metadata": {},
   "outputs": [
    {
     "data": {
      "text/plain": [
       "'tableau'"
      ]
     },
     "execution_count": 19,
     "metadata": {},
     "output_type": "execute_result"
    }
   ],
   "source": [
    "lst.pop() #Remove and return the element at index i"
   ]
  },
  {
   "cell_type": "code",
   "execution_count": 20,
   "id": "40a4f3b3",
   "metadata": {},
   "outputs": [
    {
     "data": {
      "text/plain": [
       "['tableau', 'data analytics', 'python', 555.5, 'nirmal', 5, 4]"
      ]
     },
     "execution_count": 20,
     "metadata": {},
     "output_type": "execute_result"
    }
   ],
   "source": [
    "lst.reverse()\n",
    "lst"
   ]
  },
  {
   "cell_type": "code",
   "execution_count": 21,
   "id": "d3b8ab7b",
   "metadata": {},
   "outputs": [
    {
     "data": {
      "text/plain": [
       "['tableau',\n",
       " 'data analytics',\n",
       " 'python',\n",
       " 'Machine learning',\n",
       " 555.5,\n",
       " 'nirmal',\n",
       " 5,\n",
       " 4]"
      ]
     },
     "execution_count": 21,
     "metadata": {},
     "output_type": "execute_result"
    }
   ],
   "source": [
    "lst.insert(3, \"Machine learning\") #Insert the value x at index i\n",
    "lst"
   ]
  },
  {
   "cell_type": "code",
   "execution_count": 36,
   "id": "ed96a753",
   "metadata": {},
   "outputs": [
    {
     "data": {
      "text/plain": [
       "['Machine learning',\n",
       " 'data analytics',\n",
       " 'python',\n",
       " 'tableau',\n",
       " 555.5,\n",
       " 'nirmal',\n",
       " 5,\n",
       " 4,\n",
       " 'power bi',\n",
       " 'power bi']"
      ]
     },
     "execution_count": 36,
     "metadata": {},
     "output_type": "execute_result"
    }
   ],
   "source": [
    "lst.insert(len(lst), \"power bi\")\n",
    "lst"
   ]
  },
  {
   "cell_type": "code",
   "execution_count": 37,
   "id": "7c02df3c",
   "metadata": {},
   "outputs": [
    {
     "data": {
      "text/plain": [
       "['Machine learning',\n",
       " 'data analytics',\n",
       " 'python',\n",
       " 'tableau',\n",
       " 555.5,\n",
       " 'nirmal',\n",
       " 5,\n",
       " 4,\n",
       " 'power bi',\n",
       " 'power bi',\n",
       " 'sas',\n",
       " 'excel',\n",
       " 'R']"
      ]
     },
     "execution_count": 37,
     "metadata": {},
     "output_type": "execute_result"
    }
   ],
   "source": [
    "lst.extend([\"sas\", \"excel\", \"R\"]) #Insert all the values of iterable at the end of the list, in order\n",
    "lst"
   ]
  },
  {
   "cell_type": "code",
   "execution_count": 38,
   "id": "024c0273",
   "metadata": {},
   "outputs": [
    {
     "data": {
      "text/plain": [
       "['Machine learning',\n",
       " 'data analytics',\n",
       " 'python',\n",
       " 'tableau',\n",
       " 555.5,\n",
       " 'nirmal',\n",
       " 5,\n",
       " 4,\n",
       " 'power bi',\n",
       " 'sas',\n",
       " 'excel',\n",
       " 'R']"
      ]
     },
     "execution_count": 38,
     "metadata": {},
     "output_type": "execute_result"
    }
   ],
   "source": [
    "lst.pop(-4)\n",
    "lst"
   ]
  },
  {
   "cell_type": "code",
   "execution_count": 24,
   "id": "03a22acd",
   "metadata": {},
   "outputs": [
    {
     "data": {
      "text/plain": [
       "['ajith', 'kumar', 'manoj', 'nanthini', 'nirmal', 'vicky']"
      ]
     },
     "execution_count": 24,
     "metadata": {},
     "output_type": "execute_result"
    }
   ],
   "source": [
    "lst2 = [\"nirmal\", \"kumar\", \"nanthini\", \"vicky\", \"manoj\", \"ajith\"]\n",
    "lst2.sort()\n",
    "lst2"
   ]
  },
  {
   "cell_type": "code",
   "execution_count": null,
   "id": "b99c2299",
   "metadata": {},
   "outputs": [],
   "source": [
    "#concatenating list"
   ]
  },
  {
   "cell_type": "code",
   "execution_count": 1,
   "id": "f6486864",
   "metadata": {},
   "outputs": [],
   "source": [
    "l1 = [1,2,3]\n",
    "l2 = [4,5,6,]"
   ]
  },
  {
   "cell_type": "code",
   "execution_count": 81,
   "id": "cf727808",
   "metadata": {},
   "outputs": [
    {
     "data": {
      "text/plain": [
       "[1, 2, 3, 4, 5, 6]"
      ]
     },
     "execution_count": 81,
     "metadata": {},
     "output_type": "execute_result"
    }
   ],
   "source": [
    "l1+l2"
   ]
  },
  {
   "cell_type": "code",
   "execution_count": 82,
   "id": "485760ff",
   "metadata": {},
   "outputs": [
    {
     "data": {
      "text/plain": [
       "[4, 5, 6, 1, 2, 3]"
      ]
     },
     "execution_count": 82,
     "metadata": {},
     "output_type": "execute_result"
    }
   ],
   "source": [
    "l2+l1"
   ]
  },
  {
   "cell_type": "code",
   "execution_count": 2,
   "id": "309afbee",
   "metadata": {},
   "outputs": [
    {
     "name": "stdout",
     "output_type": "stream",
     "text": [
      "[1, 2, 3, [4, 5, 6]]\n"
     ]
    }
   ],
   "source": [
    "l1.append(l2)\n",
    "print(l1)"
   ]
  },
  {
   "cell_type": "code",
   "execution_count": 3,
   "id": "b70a61f7",
   "metadata": {},
   "outputs": [
    {
     "ename": "IndexError",
     "evalue": "list index out of range",
     "output_type": "error",
     "traceback": [
      "\u001b[1;31m---------------------------------------------------------------------------\u001b[0m",
      "\u001b[1;31mIndexError\u001b[0m                                Traceback (most recent call last)",
      "\u001b[1;32m<ipython-input-3-740ae30e3315>\u001b[0m in \u001b[0;36m<module>\u001b[1;34m\u001b[0m\n\u001b[1;32m----> 1\u001b[1;33m \u001b[0ml1\u001b[0m\u001b[1;33m[\u001b[0m\u001b[1;36m7\u001b[0m\u001b[1;33m]\u001b[0m\u001b[1;33m\u001b[0m\u001b[1;33m\u001b[0m\u001b[0m\n\u001b[0m",
      "\u001b[1;31mIndexError\u001b[0m: list index out of range"
     ]
    }
   ],
   "source": [
    "l1[7]"
   ]
  },
  {
   "cell_type": "code",
   "execution_count": 83,
   "id": "d1041942",
   "metadata": {},
   "outputs": [],
   "source": [
    "#repeat a list"
   ]
  },
  {
   "cell_type": "code",
   "execution_count": 84,
   "id": "c6cdd9da",
   "metadata": {},
   "outputs": [
    {
     "data": {
      "text/plain": [
       "[4, 5, 6, 4, 5, 6, 4, 5, 6]"
      ]
     },
     "execution_count": 84,
     "metadata": {},
     "output_type": "execute_result"
    }
   ],
   "source": [
    "l2*3"
   ]
  },
  {
   "cell_type": "code",
   "execution_count": 34,
   "id": "a4eda5af",
   "metadata": {},
   "outputs": [
    {
     "name": "stdout",
     "output_type": "stream",
     "text": [
      "1\n",
      "3\n",
      "5\n",
      "7\n",
      "9\n"
     ]
    }
   ],
   "source": [
    "# Print only the odd numbers in the list\n",
    "l3 = [1,2,3,4,5,6,7,8,9,10]\n",
    "\n",
    "for i in l3:\n",
    "    if i%2!=0:\n",
    "        print(i)"
   ]
  },
  {
   "cell_type": "code",
   "execution_count": 42,
   "id": "e8ebbd87",
   "metadata": {},
   "outputs": [
    {
     "name": "stdout",
     "output_type": "stream",
     "text": [
      "21\n"
     ]
    }
   ],
   "source": [
    "nums = [1,2,3,4,5,6]\n",
    "total = 0\n",
    "\n",
    "for i in nums:\n",
    "    total = total + i\n",
    "print(total)"
   ]
  },
  {
   "cell_type": "code",
   "execution_count": 43,
   "id": "2db1b5fd",
   "metadata": {},
   "outputs": [
    {
     "data": {
      "text/plain": [
       "21"
      ]
     },
     "execution_count": 43,
     "metadata": {},
     "output_type": "execute_result"
    }
   ],
   "source": [
    "sum([1,2,3,4,5,6])"
   ]
  },
  {
   "cell_type": "code",
   "execution_count": 45,
   "id": "c839af06",
   "metadata": {},
   "outputs": [
    {
     "data": {
      "text/plain": [
       "1"
      ]
     },
     "execution_count": 45,
     "metadata": {},
     "output_type": "execute_result"
    }
   ],
   "source": [
    "min(nums)"
   ]
  },
  {
   "cell_type": "code",
   "execution_count": 46,
   "id": "fc3399d9",
   "metadata": {},
   "outputs": [
    {
     "data": {
      "text/plain": [
       "6"
      ]
     },
     "execution_count": 46,
     "metadata": {},
     "output_type": "execute_result"
    }
   ],
   "source": [
    "max(nums)"
   ]
  },
  {
   "cell_type": "code",
   "execution_count": 48,
   "id": "e11f1cdf",
   "metadata": {},
   "outputs": [
    {
     "data": {
      "text/plain": [
       "[4, 16, 36, 49, 9, 36]"
      ]
     },
     "execution_count": 48,
     "metadata": {},
     "output_type": "execute_result"
    }
   ],
   "source": [
    "#List Comprehensions\n",
    "\n",
    "l5 = [2,4,6,7,3,6]\n",
    "squares = [i**2 for i in l5]\n",
    "squares"
   ]
  },
  {
   "cell_type": "code",
   "execution_count": 49,
   "id": "e9c2521d",
   "metadata": {},
   "outputs": [
    {
     "name": "stdout",
     "output_type": "stream",
     "text": [
      "[4, 16, 36, 49, 9, 36]\n"
     ]
    }
   ],
   "source": [
    "squares = []\n",
    "\n",
    "for i in l5:\n",
    "    squares.append(i**2)\n",
    "print(squares)"
   ]
  },
  {
   "cell_type": "code",
   "execution_count": null,
   "id": "26501df0",
   "metadata": {},
   "outputs": [],
   "source": [
    "#Tuple ()"
   ]
  },
  {
   "cell_type": "code",
   "execution_count": 88,
   "id": "a0f2cf05",
   "metadata": {},
   "outputs": [],
   "source": [
    "t1 = (1,'a',True,2,'b',False)"
   ]
  },
  {
   "cell_type": "code",
   "execution_count": 89,
   "id": "0efad6c8",
   "metadata": {},
   "outputs": [
    {
     "data": {
      "text/plain": [
       "tuple"
      ]
     },
     "execution_count": 89,
     "metadata": {},
     "output_type": "execute_result"
    }
   ],
   "source": [
    "type(t1)"
   ]
  },
  {
   "cell_type": "code",
   "execution_count": 90,
   "id": "c120b3a7",
   "metadata": {},
   "outputs": [
    {
     "data": {
      "text/plain": [
       "True"
      ]
     },
     "execution_count": 90,
     "metadata": {},
     "output_type": "execute_result"
    }
   ],
   "source": [
    "t1[2]"
   ]
  },
  {
   "cell_type": "code",
   "execution_count": 91,
   "id": "6ea7e993",
   "metadata": {},
   "outputs": [
    {
     "data": {
      "text/plain": [
       "(True, 2, 'b')"
      ]
     },
     "execution_count": 91,
     "metadata": {},
     "output_type": "execute_result"
    }
   ],
   "source": [
    "t1[2:5]"
   ]
  },
  {
   "cell_type": "code",
   "execution_count": 92,
   "id": "b85bc6a4",
   "metadata": {},
   "outputs": [
    {
     "data": {
      "text/plain": [
       "6"
      ]
     },
     "execution_count": 92,
     "metadata": {},
     "output_type": "execute_result"
    }
   ],
   "source": [
    "len(t1)"
   ]
  },
  {
   "cell_type": "code",
   "execution_count": 93,
   "id": "5efda765",
   "metadata": {},
   "outputs": [],
   "source": [
    "t2 = (33, \"nanthini\")\n",
    "t3 = (35, \"nirmal\")"
   ]
  },
  {
   "cell_type": "code",
   "execution_count": 94,
   "id": "a000a436",
   "metadata": {},
   "outputs": [
    {
     "data": {
      "text/plain": [
       "(33, 'nanthini', 35, 'nirmal')"
      ]
     },
     "execution_count": 94,
     "metadata": {},
     "output_type": "execute_result"
    }
   ],
   "source": [
    "t2+t3"
   ]
  },
  {
   "cell_type": "code",
   "execution_count": 95,
   "id": "7485037c",
   "metadata": {},
   "outputs": [
    {
     "data": {
      "text/plain": [
       "(33, 'nanthini', 33, 'nanthini', 33, 'nanthini')"
      ]
     },
     "execution_count": 95,
     "metadata": {},
     "output_type": "execute_result"
    }
   ],
   "source": [
    "t2*3"
   ]
  },
  {
   "cell_type": "code",
   "execution_count": 97,
   "id": "83561ead",
   "metadata": {},
   "outputs": [
    {
     "data": {
      "text/plain": [
       "(33, 'nanthini', 33, 'nanthini', 35, 'nirmal')"
      ]
     },
     "execution_count": 97,
     "metadata": {},
     "output_type": "execute_result"
    }
   ],
   "source": [
    "t2*2+t3"
   ]
  },
  {
   "cell_type": "code",
   "execution_count": 98,
   "id": "378d69b2",
   "metadata": {},
   "outputs": [],
   "source": [
    "t4 = (55,66,64,84,94,75,51)"
   ]
  },
  {
   "cell_type": "code",
   "execution_count": 99,
   "id": "00d01e43",
   "metadata": {},
   "outputs": [
    {
     "data": {
      "text/plain": [
       "51"
      ]
     },
     "execution_count": 99,
     "metadata": {},
     "output_type": "execute_result"
    }
   ],
   "source": [
    "min(t4)"
   ]
  },
  {
   "cell_type": "code",
   "execution_count": 100,
   "id": "51612928",
   "metadata": {},
   "outputs": [
    {
     "data": {
      "text/plain": [
       "94"
      ]
     },
     "execution_count": 100,
     "metadata": {},
     "output_type": "execute_result"
    }
   ],
   "source": [
    "max(t4)"
   ]
  },
  {
   "cell_type": "code",
   "execution_count": null,
   "id": "3e40b9f7",
   "metadata": {},
   "outputs": [],
   "source": [
    "#dictionary {}"
   ]
  },
  {
   "cell_type": "code",
   "execution_count": 101,
   "id": "22cca957",
   "metadata": {},
   "outputs": [],
   "source": [
    "no = {\"nanthini\":33, \"nirmal\":35, \"palani\":38, \"kavi\":40}"
   ]
  },
  {
   "cell_type": "code",
   "execution_count": 103,
   "id": "ddcc946d",
   "metadata": {},
   "outputs": [
    {
     "data": {
      "text/plain": [
       "dict"
      ]
     },
     "execution_count": 103,
     "metadata": {},
     "output_type": "execute_result"
    }
   ],
   "source": [
    "type(no)"
   ]
  },
  {
   "cell_type": "code",
   "execution_count": 104,
   "id": "64285974",
   "metadata": {},
   "outputs": [
    {
     "data": {
      "text/plain": [
       "dict_keys(['nanthini', 'nirmal', 'palani', 'kavi'])"
      ]
     },
     "execution_count": 104,
     "metadata": {},
     "output_type": "execute_result"
    }
   ],
   "source": [
    "no.keys()"
   ]
  },
  {
   "cell_type": "code",
   "execution_count": 106,
   "id": "6e8bfebc",
   "metadata": {},
   "outputs": [
    {
     "data": {
      "text/plain": [
       "dict_values([33, 35, 38, 40])"
      ]
     },
     "execution_count": 106,
     "metadata": {},
     "output_type": "execute_result"
    }
   ],
   "source": [
    "no.values()"
   ]
  },
  {
   "cell_type": "code",
   "execution_count": 108,
   "id": "c5a2c9c3",
   "metadata": {},
   "outputs": [
    {
     "data": {
      "text/plain": [
       "{'nanthini': 33, 'nirmal': 35, 'palani': 38, 'kavi': 40, 'vicky': 60}"
      ]
     },
     "execution_count": 108,
     "metadata": {},
     "output_type": "execute_result"
    }
   ],
   "source": [
    "no[\"vicky\"]=60\n",
    "no"
   ]
  },
  {
   "cell_type": "code",
   "execution_count": 109,
   "id": "8d0a9e3e",
   "metadata": {},
   "outputs": [
    {
     "data": {
      "text/plain": [
       "{'nanthini': 33, 'nirmal': 35, 'palani': 38, 'kavi': 20, 'vicky': 60}"
      ]
     },
     "execution_count": 109,
     "metadata": {},
     "output_type": "execute_result"
    }
   ],
   "source": [
    "no[\"kavi\"]=20\n",
    "no"
   ]
  },
  {
   "cell_type": "code",
   "execution_count": 111,
   "id": "6d683a3c",
   "metadata": {},
   "outputs": [],
   "source": [
    "no1 = {\"nanthini\":33, \"nirmal\":35}\n",
    "no2 = {\"naveen\":15, \"kumar\":40}"
   ]
  },
  {
   "cell_type": "code",
   "execution_count": 114,
   "id": "4b242d39",
   "metadata": {},
   "outputs": [
    {
     "data": {
      "text/plain": [
       "{'nanthini': 33, 'nirmal': 35, 'naveen': 15, 'kumar': 40}"
      ]
     },
     "execution_count": 114,
     "metadata": {},
     "output_type": "execute_result"
    }
   ],
   "source": [
    "no1.update(no2)\n",
    "no1"
   ]
  },
  {
   "cell_type": "code",
   "execution_count": 148,
   "id": "50e073c7",
   "metadata": {},
   "outputs": [
    {
     "data": {
      "text/plain": [
       "35"
      ]
     },
     "execution_count": 148,
     "metadata": {},
     "output_type": "execute_result"
    }
   ],
   "source": [
    "no1.pop('nirmal')"
   ]
  },
  {
   "cell_type": "code",
   "execution_count": 149,
   "id": "4a510cc3",
   "metadata": {},
   "outputs": [],
   "source": [
    "#set"
   ]
  },
  {
   "cell_type": "code",
   "execution_count": 154,
   "id": "28d803c1",
   "metadata": {},
   "outputs": [],
   "source": [
    "s1 ={1,2,3,4,5}"
   ]
  },
  {
   "cell_type": "code",
   "execution_count": 155,
   "id": "b07a661c",
   "metadata": {},
   "outputs": [
    {
     "data": {
      "text/plain": [
       "{1, 2, 3, 4, 5, 6}"
      ]
     },
     "execution_count": 155,
     "metadata": {},
     "output_type": "execute_result"
    }
   ],
   "source": [
    "s1.add(6)\n",
    "s1"
   ]
  },
  {
   "cell_type": "code",
   "execution_count": 156,
   "id": "8ef06f7d",
   "metadata": {},
   "outputs": [
    {
     "data": {
      "text/plain": [
       "{1, 2, 3, 5, 6}"
      ]
     },
     "execution_count": 156,
     "metadata": {},
     "output_type": "execute_result"
    }
   ],
   "source": [
    "s1.remove(4)\n",
    "s1"
   ]
  },
  {
   "cell_type": "code",
   "execution_count": 171,
   "id": "8c0f703e",
   "metadata": {},
   "outputs": [],
   "source": [
    "s2 = {1,2,3,4,5,6,7}\n",
    "s3 = {5,6,7,8}"
   ]
  },
  {
   "cell_type": "code",
   "execution_count": 170,
   "id": "293125f0",
   "metadata": {},
   "outputs": [
    {
     "data": {
      "text/plain": [
       "{1, 2, 3, 4, 5, 6, 7, 8}"
      ]
     },
     "execution_count": 170,
     "metadata": {},
     "output_type": "execute_result"
    }
   ],
   "source": [
    "s2.union(s3)"
   ]
  },
  {
   "cell_type": "code",
   "execution_count": 172,
   "id": "bb428988",
   "metadata": {},
   "outputs": [
    {
     "data": {
      "text/plain": [
       "{5, 6, 7}"
      ]
     },
     "execution_count": 172,
     "metadata": {},
     "output_type": "execute_result"
    }
   ],
   "source": [
    "s2.intersection(s3)"
   ]
  },
  {
   "cell_type": "code",
   "execution_count": null,
   "id": "e7b2bd5d",
   "metadata": {},
   "outputs": [],
   "source": [
    "#if"
   ]
  },
  {
   "cell_type": "code",
   "execution_count": 11,
   "id": "c2b7f671",
   "metadata": {},
   "outputs": [],
   "source": [
    "a = 50\n",
    "b = 60"
   ]
  },
  {
   "cell_type": "code",
   "execution_count": 13,
   "id": "8c45f49d",
   "metadata": {},
   "outputs": [
    {
     "name": "stdout",
     "output_type": "stream",
     "text": [
      "not valid\n"
     ]
    }
   ],
   "source": [
    "if b>a:\n",
    "    print(\"not valid\")"
   ]
  },
  {
   "cell_type": "code",
   "execution_count": 15,
   "id": "11f558c6",
   "metadata": {},
   "outputs": [
    {
     "name": "stdout",
     "output_type": "stream",
     "text": [
      "valid\n"
     ]
    }
   ],
   "source": [
    "if a<b:\n",
    "    print(\"valid\")"
   ]
  },
  {
   "cell_type": "code",
   "execution_count": 16,
   "id": "8229b0cc",
   "metadata": {},
   "outputs": [
    {
     "name": "stdout",
     "output_type": "stream",
     "text": [
      "valid\n"
     ]
    }
   ],
   "source": [
    "if a<b:\n",
    "    print(\"valid\")\n",
    "else:\n",
    "    print(\"not valid\")"
   ]
  },
  {
   "cell_type": "code",
   "execution_count": 17,
   "id": "731f7d7d",
   "metadata": {},
   "outputs": [],
   "source": [
    "#elif"
   ]
  },
  {
   "cell_type": "code",
   "execution_count": 18,
   "id": "05452fcd",
   "metadata": {},
   "outputs": [],
   "source": [
    "a = 100\n",
    "b = 50\n",
    "c = 150"
   ]
  },
  {
   "cell_type": "code",
   "execution_count": 19,
   "id": "7251d59f",
   "metadata": {},
   "outputs": [
    {
     "name": "stdout",
     "output_type": "stream",
     "text": [
      "c is maximum\n"
     ]
    }
   ],
   "source": [
    "if (a>b) & (a>c):\n",
    "    print(\"a is maximum\")\n",
    "if (b>a) & (b>c):\n",
    "    print(\"b is maximum\")\n",
    "else:\n",
    "    print(\"c is maximum\")"
   ]
  },
  {
   "cell_type": "code",
   "execution_count": null,
   "id": "3ea3d9a6",
   "metadata": {},
   "outputs": [],
   "source": [
    "#tuple with if"
   ]
  },
  {
   "cell_type": "code",
   "execution_count": 20,
   "id": "7901b21e",
   "metadata": {},
   "outputs": [],
   "source": [
    "tup1 = (\"nirmal\", \"nanthini\", \"kumar\", \"puvi\") "
   ]
  },
  {
   "cell_type": "code",
   "execution_count": 23,
   "id": "508f4991",
   "metadata": {},
   "outputs": [
    {
     "name": "stdout",
     "output_type": "stream",
     "text": [
      "present in tup1\n"
     ]
    }
   ],
   "source": [
    "if \"nanthini\" in tup1:\n",
    "    print(\"present in tup1\")\n",
    "else:\n",
    "    print(\"not present\")"
   ]
  },
  {
   "cell_type": "code",
   "execution_count": null,
   "id": "ddb19111",
   "metadata": {},
   "outputs": [],
   "source": [
    "#list with if"
   ]
  },
  {
   "cell_type": "code",
   "execution_count": 24,
   "id": "5bafadb6",
   "metadata": {},
   "outputs": [],
   "source": [
    "l1 = [10,20,30,40]"
   ]
  },
  {
   "cell_type": "code",
   "execution_count": 25,
   "id": "ad338d1f",
   "metadata": {},
   "outputs": [],
   "source": [
    "if l1[1]==20:\n",
    "    l1[1]=50"
   ]
  },
  {
   "cell_type": "code",
   "execution_count": 26,
   "id": "af77a933",
   "metadata": {},
   "outputs": [
    {
     "data": {
      "text/plain": [
       "[10, 50, 30, 40]"
      ]
     },
     "execution_count": 26,
     "metadata": {},
     "output_type": "execute_result"
    }
   ],
   "source": [
    "l1"
   ]
  },
  {
   "cell_type": "code",
   "execution_count": null,
   "id": "62011fc3",
   "metadata": {},
   "outputs": [],
   "source": [
    "#dictionary with if"
   ]
  },
  {
   "cell_type": "code",
   "execution_count": 30,
   "id": "7775e51c",
   "metadata": {},
   "outputs": [],
   "source": [
    "d1 ={\"a1\":10,\"a2\":20,\"a3\":30,\"a4\":40,}"
   ]
  },
  {
   "cell_type": "code",
   "execution_count": 31,
   "id": "678bf2c8",
   "metadata": {},
   "outputs": [
    {
     "data": {
      "text/plain": [
       "{'a1': 10, 'a2': 20, 'a3': 330, 'a4': 40}"
      ]
     },
     "execution_count": 31,
     "metadata": {},
     "output_type": "execute_result"
    }
   ],
   "source": [
    "if d1[\"a3\"]==30:\n",
    "    d1[\"a3\"]=d1[\"a3\"]+300\n",
    "d1"
   ]
  },
  {
   "cell_type": "code",
   "execution_count": null,
   "id": "c388d265",
   "metadata": {},
   "outputs": [],
   "source": [
    "#looping statement - for,while,repeating,each"
   ]
  },
  {
   "cell_type": "code",
   "execution_count": 4,
   "id": "e293b40d",
   "metadata": {},
   "outputs": [
    {
     "name": "stdout",
     "output_type": "stream",
     "text": [
      "P\n",
      "y\n",
      "t\n",
      "h\n",
      "o\n",
      "n\n"
     ]
    }
   ],
   "source": [
    "for letter in \"Python\":\n",
    "    print(letter)"
   ]
  },
  {
   "cell_type": "code",
   "execution_count": 7,
   "id": "d3926f4b",
   "metadata": {},
   "outputs": [
    {
     "name": "stdout",
     "output_type": "stream",
     "text": [
      "P\n",
      "y\n",
      "t\n",
      "h\n",
      "o\n",
      "n\n"
     ]
    }
   ],
   "source": [
    "word = \"Python\"\n",
    "index = 0\n",
    "\n",
    "while index < len(word):\n",
    "    print(word[index])\n",
    "    index = index + 1"
   ]
  },
  {
   "cell_type": "code",
   "execution_count": 8,
   "id": "29a9e9cf",
   "metadata": {},
   "outputs": [
    {
     "name": "stdout",
     "output_type": "stream",
     "text": [
      "Pyhon\n",
      "Pyhon\n",
      "Pyhon\n"
     ]
    }
   ],
   "source": [
    "for n in range(3):\n",
    "    print(\"Pyhon\")"
   ]
  },
  {
   "cell_type": "code",
   "execution_count": 9,
   "id": "0dc7c214",
   "metadata": {},
   "outputs": [
    {
     "name": "stdout",
     "output_type": "stream",
     "text": [
      "100\n",
      "121\n",
      "144\n",
      "169\n",
      "196\n",
      "225\n",
      "256\n",
      "289\n",
      "324\n",
      "361\n"
     ]
    }
   ],
   "source": [
    "for n in range(10, 20):\n",
    "    print(n * n)"
   ]
  },
  {
   "cell_type": "code",
   "execution_count": null,
   "id": "ddfbfd6d",
   "metadata": {},
   "outputs": [],
   "source": []
  },
  {
   "cell_type": "code",
   "execution_count": null,
   "id": "60d5c460",
   "metadata": {},
   "outputs": [],
   "source": []
  },
  {
   "cell_type": "code",
   "execution_count": null,
   "id": "8f206dc3",
   "metadata": {},
   "outputs": [],
   "source": []
  },
  {
   "cell_type": "code",
   "execution_count": null,
   "id": "950d72bd",
   "metadata": {},
   "outputs": [],
   "source": []
  },
  {
   "cell_type": "code",
   "execution_count": 34,
   "id": "a4ffaeff",
   "metadata": {},
   "outputs": [],
   "source": [
    "a1 = [\"nirmal\", \"kumar\", \"nanthini\"]"
   ]
  },
  {
   "cell_type": "code",
   "execution_count": 36,
   "id": "0fd587d3",
   "metadata": {},
   "outputs": [
    {
     "name": "stdout",
     "output_type": "stream",
     "text": [
      "nirmal\n",
      "kumar\n",
      "nanthini\n"
     ]
    }
   ],
   "source": [
    "for i in a1:\n",
    "    print(i)\n"
   ]
  },
  {
   "cell_type": "code",
   "execution_count": 39,
   "id": "fbb66daa",
   "metadata": {},
   "outputs": [],
   "source": [
    "fruits =[\"apple\", \"mango\", \"gova\", \"graph\"]\n",
    "color =[\"red\", \"yellow\", \"green\", \"blue\"]"
   ]
  },
  {
   "cell_type": "code",
   "execution_count": 41,
   "id": "b7170f44",
   "metadata": {},
   "outputs": [
    {
     "name": "stdout",
     "output_type": "stream",
     "text": [
      "apple red\n",
      "apple yellow\n",
      "apple green\n",
      "apple blue\n",
      "mango red\n",
      "mango yellow\n",
      "mango green\n",
      "mango blue\n",
      "gova red\n",
      "gova yellow\n",
      "gova green\n",
      "gova blue\n",
      "graph red\n",
      "graph yellow\n",
      "graph green\n",
      "graph blue\n"
     ]
    }
   ],
   "source": [
    "for f in fruits:\n",
    "    for c in color:\n",
    "        print(f,c)"
   ]
  },
  {
   "cell_type": "code",
   "execution_count": null,
   "id": "7b4cebf1",
   "metadata": {},
   "outputs": [],
   "source": [
    "#while loop"
   ]
  },
  {
   "cell_type": "code",
   "execution_count": 1,
   "id": "61b0c432",
   "metadata": {},
   "outputs": [
    {
     "name": "stdout",
     "output_type": "stream",
     "text": [
      "1\n",
      "2\n",
      "3\n",
      "4\n"
     ]
    }
   ],
   "source": [
    "n = 1\n",
    "while n < 5:\n",
    "    print(n)\n",
    "    n = n + 1"
   ]
  },
  {
   "cell_type": "code",
   "execution_count": 3,
   "id": "1858f883",
   "metadata": {},
   "outputs": [
    {
     "name": "stdout",
     "output_type": "stream",
     "text": [
      "Enter postive number: -1\n",
      "that's not a positive number!\n",
      "Enter postive number: 6\n"
     ]
    }
   ],
   "source": [
    "num = float(input(\"Enter postive number: \"))\n",
    "\n",
    "while num <=0:\n",
    "    print(\"that's not a positive number!\")\n",
    "    num = float(input(\"Enter postive number: \"))"
   ]
  },
  {
   "cell_type": "code",
   "execution_count": 1,
   "id": "6aa26666",
   "metadata": {},
   "outputs": [
    {
     "name": "stdout",
     "output_type": "stream",
     "text": [
      "2  *  1  =  2\n",
      "2  *  2  =  4\n",
      "2  *  3  =  6\n",
      "2  *  4  =  8\n",
      "2  *  5  =  10\n",
      "2  *  6  =  12\n",
      "2  *  7  =  14\n",
      "2  *  8  =  16\n",
      "2  *  9  =  18\n",
      "2  *  10  =  20\n"
     ]
    }
   ],
   "source": [
    "i=1\n",
    "n=2\n",
    "while i<=10:\n",
    "    print(n,\" * \",i,\" = \",n*i)\n",
    "    i=i+1"
   ]
  },
  {
   "cell_type": "code",
   "execution_count": 11,
   "id": "7b0aa251",
   "metadata": {},
   "outputs": [],
   "source": [
    "l1 = [1,2,3,4,5]"
   ]
  },
  {
   "cell_type": "code",
   "execution_count": 12,
   "id": "7d3a5bac",
   "metadata": {},
   "outputs": [],
   "source": [
    "i=0\n",
    "while i<len(l1):\n",
    "    l1[i]=l1[i]+100\n",
    "    i=i+1"
   ]
  },
  {
   "cell_type": "code",
   "execution_count": 13,
   "id": "7ab5768c",
   "metadata": {},
   "outputs": [
    {
     "data": {
      "text/plain": [
       "[101, 102, 103, 104, 105]"
      ]
     },
     "execution_count": 13,
     "metadata": {},
     "output_type": "execute_result"
    }
   ],
   "source": [
    "l1"
   ]
  },
  {
   "cell_type": "code",
   "execution_count": 62,
   "id": "7f49a9c1",
   "metadata": {},
   "outputs": [
    {
     "name": "stdout",
     "output_type": "stream",
     "text": [
      "The answer is: 30\n"
     ]
    }
   ],
   "source": [
    "# Function \n",
    "def multiply(x,y):\n",
    "    product = x*y\n",
    "    return product\n",
    "\n",
    "num = multiply(5,6)\n",
    "print(f\"The answer is: {num}\")"
   ]
  },
  {
   "cell_type": "code",
   "execution_count": 65,
   "id": "9d583902",
   "metadata": {},
   "outputs": [
    {
     "name": "stdout",
     "output_type": "stream",
     "text": [
      "Hello, Nirmal!\n"
     ]
    }
   ],
   "source": [
    "#Functions With No Return Statement\n",
    "def greet(name):\n",
    "    print(f\"Hello, {name}!\")\n",
    "greet(\"Nirmal\")"
   ]
  },
  {
   "cell_type": "code",
   "execution_count": 14,
   "id": "0d33b0c7",
   "metadata": {},
   "outputs": [],
   "source": [
    "#Object"
   ]
  },
  {
   "cell_type": "code",
   "execution_count": 28,
   "id": "0ee9443c",
   "metadata": {},
   "outputs": [],
   "source": [
    "class phone:\n",
    "    def set_color(self,color):\n",
    "        self.color=color\n",
    "    def set_cost(self,cost):\n",
    "        self.cost=cost\n",
    "    def show_color(self):\n",
    "        return self.color\n",
    "    def show_cost(self):\n",
    "        return self.cost"
   ]
  },
  {
   "cell_type": "code",
   "execution_count": 29,
   "id": "b56a9ec7",
   "metadata": {},
   "outputs": [],
   "source": [
    "ph1 = phone()"
   ]
  },
  {
   "cell_type": "code",
   "execution_count": 18,
   "id": "9bba942d",
   "metadata": {},
   "outputs": [
    {
     "name": "stdout",
     "output_type": "stream",
     "text": [
      "9655311987\n"
     ]
    }
   ],
   "source": [
    "ph1.mob_number()"
   ]
  },
  {
   "cell_type": "code",
   "execution_count": 19,
   "id": "e58f7285",
   "metadata": {},
   "outputs": [
    {
     "name": "stdout",
     "output_type": "stream",
     "text": [
      "MI\n"
     ]
    }
   ],
   "source": [
    "ph1.mob_brand()"
   ]
  },
  {
   "cell_type": "code",
   "execution_count": 33,
   "id": "4dae72e3",
   "metadata": {},
   "outputs": [],
   "source": [
    "ph1.set_color(\"red\")"
   ]
  },
  {
   "cell_type": "code",
   "execution_count": 34,
   "id": "70f706ab",
   "metadata": {},
   "outputs": [],
   "source": [
    "ph1.set_cost(9999)"
   ]
  },
  {
   "cell_type": "code",
   "execution_count": 35,
   "id": "da30e940",
   "metadata": {},
   "outputs": [
    {
     "data": {
      "text/plain": [
       "'red'"
      ]
     },
     "execution_count": 35,
     "metadata": {},
     "output_type": "execute_result"
    }
   ],
   "source": [
    "ph1.show_color()"
   ]
  },
  {
   "cell_type": "code",
   "execution_count": 36,
   "id": "d61c46c0",
   "metadata": {},
   "outputs": [
    {
     "data": {
      "text/plain": [
       "9999"
      ]
     },
     "execution_count": 36,
     "metadata": {},
     "output_type": "execute_result"
    }
   ],
   "source": [
    "ph1.show_cost()"
   ]
  },
  {
   "cell_type": "code",
   "execution_count": null,
   "id": "6b5ff134",
   "metadata": {},
   "outputs": [],
   "source": [
    "#constructors"
   ]
  },
  {
   "cell_type": "code",
   "execution_count": 42,
   "id": "6a79495d",
   "metadata": {},
   "outputs": [],
   "source": [
    "class employee:\n",
    "    def __init__(self,name,age,salary,gender):\n",
    "        self.name = name\n",
    "        self.age = age\n",
    "        self.salary = salary\n",
    "        self.gender = gender\n",
    "    def show_employee_details(self):\n",
    "        print(\"Name of the employee is\",self.name)\n",
    "        print(\"age of the employee is\",self.age)\n",
    "        print(\"salary of the employee is\",self.salary)\n",
    "        print(\"gender of the employee is\",self.gender)"
   ]
  },
  {
   "cell_type": "code",
   "execution_count": 43,
   "id": "7a2056c7",
   "metadata": {},
   "outputs": [],
   "source": [
    "emp1 = employee(\"nirmal\",25,15000,\"Male\")"
   ]
  },
  {
   "cell_type": "code",
   "execution_count": 44,
   "id": "85c2e6aa",
   "metadata": {},
   "outputs": [
    {
     "name": "stdout",
     "output_type": "stream",
     "text": [
      "Name of the employee is nirmal\n",
      "age of the employee is 25\n",
      "salary of the employee is 15000\n",
      "gender of the employee is Male\n"
     ]
    }
   ],
   "source": [
    "emp1.show_employee_details()"
   ]
  },
  {
   "cell_type": "code",
   "execution_count": null,
   "id": "06f88562",
   "metadata": {},
   "outputs": [],
   "source": [
    "#inheritance "
   ]
  },
  {
   "cell_type": "code",
   "execution_count": 49,
   "id": "38ec27d7",
   "metadata": {},
   "outputs": [],
   "source": [
    "class vehicle:\n",
    "    def __init__(self,cost,mileage):\n",
    "        self.cost = cost\n",
    "        self.mileage = mileage\n",
    "    def show_vehicle_details(self):\n",
    "        print(\"i am a vehicle\")\n",
    "        print(\"cost of the vehicle is\",self.cost)\n",
    "        print(\"mileage of the vehicle is\",self.mileage)\n",
    "    "
   ]
  },
  {
   "cell_type": "code",
   "execution_count": 52,
   "id": "a726dfa3",
   "metadata": {},
   "outputs": [],
   "source": [
    "v1 = vehicle(200000,150)"
   ]
  },
  {
   "cell_type": "code",
   "execution_count": 53,
   "id": "b4db290e",
   "metadata": {},
   "outputs": [
    {
     "name": "stdout",
     "output_type": "stream",
     "text": [
      "i am a vehicle\n",
      "cost of the vehicle is 200000\n",
      "mileage of the vehicle is 150\n"
     ]
    }
   ],
   "source": [
    "v1.show_vehicle_details()"
   ]
  },
  {
   "cell_type": "code",
   "execution_count": 56,
   "id": "77c62337",
   "metadata": {},
   "outputs": [],
   "source": [
    "class car(vehicle):\n",
    "    def show_car(self):\n",
    "        print(\"i am a car\")"
   ]
  },
  {
   "cell_type": "code",
   "execution_count": 57,
   "id": "92052247",
   "metadata": {},
   "outputs": [],
   "source": [
    "c1 = car(450000,150)"
   ]
  },
  {
   "cell_type": "code",
   "execution_count": 58,
   "id": "864b76a8",
   "metadata": {},
   "outputs": [
    {
     "name": "stdout",
     "output_type": "stream",
     "text": [
      "i am a vehicle\n",
      "cost of the vehicle is 450000\n",
      "mileage of the vehicle is 150\n"
     ]
    }
   ],
   "source": [
    "c1.show_vehicle_details()"
   ]
  },
  {
   "cell_type": "code",
   "execution_count": 59,
   "id": "543ca8c0",
   "metadata": {},
   "outputs": [
    {
     "name": "stdout",
     "output_type": "stream",
     "text": [
      "i am a car\n"
     ]
    }
   ],
   "source": [
    "c1.show_car()"
   ]
  },
  {
   "cell_type": "code",
   "execution_count": 83,
   "id": "00d47e4c",
   "metadata": {},
   "outputs": [],
   "source": [
    "class vehicle():\n",
    "    def __init__(self,mileage,cost):\n",
    "        self.mileage = mileage\n",
    "        self.cost = cost\n",
    "    def show_vehicle_detials(self):\n",
    "        print(\"i am a vehicle\")\n",
    "        print(\"mileage of the vehicle is\",slef.mileage)\n",
    "        print(\"cost of the vehicle is\",self.cost)"
   ]
  },
  {
   "cell_type": "code",
   "execution_count": 78,
   "id": "20c12569",
   "metadata": {},
   "outputs": [
    {
     "name": "stdout",
     "output_type": "stream",
     "text": [
      "i am a car\n",
      "the number of tyres are 4\n",
      "the horse of power is 200\n"
     ]
    }
   ],
   "source": [
    "c1.show_car_details()"
   ]
  },
  {
   "cell_type": "code",
   "execution_count": null,
   "id": "07af9cd2",
   "metadata": {},
   "outputs": [],
   "source": [
    "#multiple inheritance"
   ]
  },
  {
   "cell_type": "code",
   "execution_count": 96,
   "id": "646e705c",
   "metadata": {},
   "outputs": [],
   "source": [
    "class parent1():\n",
    "    def assign_str_one(self,str1):\n",
    "        self.str1 = str1\n",
    "    def show_str_one(self):\n",
    "        return self.str1"
   ]
  },
  {
   "cell_type": "code",
   "execution_count": 106,
   "id": "5043b97b",
   "metadata": {},
   "outputs": [],
   "source": [
    "class parent2():\n",
    "    def assign_str_two(self,str2):\n",
    "        self.str2 = str2\n",
    "    def show_str_two(self):\n",
    "        return self.str2"
   ]
  },
  {
   "cell_type": "code",
   "execution_count": 107,
   "id": "f9b8e47f",
   "metadata": {},
   "outputs": [],
   "source": [
    "class child(parent1,parent2):\n",
    "    def assign_str_three(self,str3):\n",
    "        self.str3 = str3\n",
    "    def show_str_three(self):\n",
    "        return self.str3"
   ]
  },
  {
   "cell_type": "code",
   "execution_count": 108,
   "id": "9c0584a6",
   "metadata": {},
   "outputs": [],
   "source": [
    "c1=child()"
   ]
  },
  {
   "cell_type": "code",
   "execution_count": 109,
   "id": "dff1da12",
   "metadata": {},
   "outputs": [],
   "source": [
    "c1.assign_str_one(\"one\")"
   ]
  },
  {
   "cell_type": "code",
   "execution_count": 110,
   "id": "189d2bb8",
   "metadata": {},
   "outputs": [],
   "source": [
    "c1.assign_str_two(\"two\")"
   ]
  },
  {
   "cell_type": "code",
   "execution_count": 111,
   "id": "8bb73378",
   "metadata": {},
   "outputs": [],
   "source": [
    "c1.assign_str_three(\"three\")"
   ]
  },
  {
   "cell_type": "code",
   "execution_count": 103,
   "id": "b1a509b7",
   "metadata": {},
   "outputs": [
    {
     "data": {
      "text/plain": [
       "'one'"
      ]
     },
     "execution_count": 103,
     "metadata": {},
     "output_type": "execute_result"
    }
   ],
   "source": [
    "c1.show_str_one()"
   ]
  },
  {
   "cell_type": "code",
   "execution_count": 112,
   "id": "be1dfce6",
   "metadata": {},
   "outputs": [
    {
     "data": {
      "text/plain": [
       "'two'"
      ]
     },
     "execution_count": 112,
     "metadata": {},
     "output_type": "execute_result"
    }
   ],
   "source": [
    "c1.show_str_two()"
   ]
  },
  {
   "cell_type": "code",
   "execution_count": 113,
   "id": "a54504c3",
   "metadata": {},
   "outputs": [
    {
     "data": {
      "text/plain": [
       "'three'"
      ]
     },
     "execution_count": 113,
     "metadata": {},
     "output_type": "execute_result"
    }
   ],
   "source": [
    "c1.show_str_three()"
   ]
  },
  {
   "cell_type": "code",
   "execution_count": 164,
   "id": "57760853",
   "metadata": {},
   "outputs": [],
   "source": [
    "class parent():\n",
    "    def assign_name(self,name):\n",
    "        self.name = name\n",
    "    def show_name(self):\n",
    "        return self.name"
   ]
  },
  {
   "cell_type": "code",
   "execution_count": 165,
   "id": "500460c9",
   "metadata": {},
   "outputs": [],
   "source": [
    "class Child(parent):\n",
    "    def assign_age(self,age):\n",
    "        self.age = age\n",
    "    def show_age(self):\n",
    "        return self.age"
   ]
  },
  {
   "cell_type": "code",
   "execution_count": 166,
   "id": "caa60503",
   "metadata": {},
   "outputs": [],
   "source": [
    "class GrandChild(Child):\n",
    "    def assign_gender(self,gender):\n",
    "        self.gender = gender\n",
    "    def show_gender(self):\n",
    "        return self.gender"
   ]
  },
  {
   "cell_type": "code",
   "execution_count": 167,
   "id": "b16900d8",
   "metadata": {},
   "outputs": [],
   "source": [
    "gc = GrandChild()"
   ]
  },
  {
   "cell_type": "code",
   "execution_count": 168,
   "id": "ed3d9b97",
   "metadata": {},
   "outputs": [],
   "source": [
    "gc.assign_name(\"nirmal\")"
   ]
  },
  {
   "cell_type": "code",
   "execution_count": 169,
   "id": "8eb261e1",
   "metadata": {},
   "outputs": [],
   "source": [
    "gc.assign_age(\"20\")"
   ]
  },
  {
   "cell_type": "code",
   "execution_count": 170,
   "id": "4e27112f",
   "metadata": {},
   "outputs": [],
   "source": [
    "gc.assign_gender(\"male\")"
   ]
  },
  {
   "cell_type": "code",
   "execution_count": 171,
   "id": "a274e4d8",
   "metadata": {},
   "outputs": [
    {
     "data": {
      "text/plain": [
       "'nirmal'"
      ]
     },
     "execution_count": 171,
     "metadata": {},
     "output_type": "execute_result"
    }
   ],
   "source": [
    "gc.show_name()"
   ]
  },
  {
   "cell_type": "code",
   "execution_count": 172,
   "id": "0847976a",
   "metadata": {},
   "outputs": [
    {
     "data": {
      "text/plain": [
       "'20'"
      ]
     },
     "execution_count": 172,
     "metadata": {},
     "output_type": "execute_result"
    }
   ],
   "source": [
    "gc.show_age()"
   ]
  },
  {
   "cell_type": "code",
   "execution_count": 173,
   "id": "36f15a1b",
   "metadata": {},
   "outputs": [
    {
     "data": {
      "text/plain": [
       "'male'"
      ]
     },
     "execution_count": 173,
     "metadata": {},
     "output_type": "execute_result"
    }
   ],
   "source": [
    "gc.show_gender()"
   ]
  },
  {
   "cell_type": "code",
   "execution_count": null,
   "id": "c7d8b085",
   "metadata": {},
   "outputs": [],
   "source": [
    "#numpy"
   ]
  },
  {
   "cell_type": "code",
   "execution_count": 174,
   "id": "38728d0c",
   "metadata": {},
   "outputs": [],
   "source": [
    "import numpy as np"
   ]
  },
  {
   "cell_type": "code",
   "execution_count": 175,
   "id": "c41fbe06",
   "metadata": {},
   "outputs": [],
   "source": [
    "n1 = np.array([10,20,30,40,50])"
   ]
  },
  {
   "cell_type": "code",
   "execution_count": 176,
   "id": "b16e69fd",
   "metadata": {},
   "outputs": [
    {
     "data": {
      "text/plain": [
       "array([10, 20, 30, 40, 50])"
      ]
     },
     "execution_count": 176,
     "metadata": {},
     "output_type": "execute_result"
    }
   ],
   "source": [
    "n1"
   ]
  },
  {
   "cell_type": "code",
   "execution_count": 177,
   "id": "affa1374",
   "metadata": {},
   "outputs": [
    {
     "data": {
      "text/plain": [
       "numpy.ndarray"
      ]
     },
     "execution_count": 177,
     "metadata": {},
     "output_type": "execute_result"
    }
   ],
   "source": [
    "type(n1)"
   ]
  },
  {
   "cell_type": "code",
   "execution_count": 179,
   "id": "333b3a9f",
   "metadata": {},
   "outputs": [],
   "source": [
    "n2 = np.array([[1,2,3,4],[4,3,2,1]])"
   ]
  },
  {
   "cell_type": "code",
   "execution_count": 180,
   "id": "b02930a6",
   "metadata": {},
   "outputs": [
    {
     "data": {
      "text/plain": [
       "array([[1, 2, 3, 4],\n",
       "       [4, 3, 2, 1]])"
      ]
     },
     "execution_count": 180,
     "metadata": {},
     "output_type": "execute_result"
    }
   ],
   "source": [
    "n2"
   ]
  },
  {
   "cell_type": "code",
   "execution_count": 182,
   "id": "8dc104fa",
   "metadata": {},
   "outputs": [
    {
     "data": {
      "text/plain": [
       "array([[0., 0., 0., 0., 0.],\n",
       "       [0., 0., 0., 0., 0.],\n",
       "       [0., 0., 0., 0., 0.],\n",
       "       [0., 0., 0., 0., 0.],\n",
       "       [0., 0., 0., 0., 0.]])"
      ]
     },
     "execution_count": 182,
     "metadata": {},
     "output_type": "execute_result"
    }
   ],
   "source": [
    "n1 = np.zeros((5,5))\n",
    "n1"
   ]
  },
  {
   "cell_type": "code",
   "execution_count": 184,
   "id": "824b1f9c",
   "metadata": {},
   "outputs": [
    {
     "data": {
      "text/plain": [
       "array([[0., 0., 0.],\n",
       "       [0., 0., 0.]])"
      ]
     },
     "execution_count": 184,
     "metadata": {},
     "output_type": "execute_result"
    }
   ],
   "source": [
    "n2 = np.zeros((2,3))\n",
    "n2"
   ]
  },
  {
   "cell_type": "code",
   "execution_count": 185,
   "id": "5401e5ae",
   "metadata": {},
   "outputs": [
    {
     "data": {
      "text/plain": [
       "array([[5, 5],\n",
       "       [5, 5],\n",
       "       [5, 5]])"
      ]
     },
     "execution_count": 185,
     "metadata": {},
     "output_type": "execute_result"
    }
   ],
   "source": [
    "n3 = np.full((3,2),5)\n",
    "n3"
   ]
  },
  {
   "cell_type": "code",
   "execution_count": 188,
   "id": "66903f15",
   "metadata": {},
   "outputs": [
    {
     "data": {
      "text/plain": [
       "array([10, 11, 12, 13, 14, 15, 16, 17, 18, 19])"
      ]
     },
     "execution_count": 188,
     "metadata": {},
     "output_type": "execute_result"
    }
   ],
   "source": [
    "n4 = np.arange(10,20)\n",
    "n4"
   ]
  },
  {
   "cell_type": "code",
   "execution_count": 192,
   "id": "89853da3",
   "metadata": {},
   "outputs": [
    {
     "data": {
      "text/plain": [
       "array([ 8, 16, 24, 32, 40, 48, 56, 64, 72])"
      ]
     },
     "execution_count": 192,
     "metadata": {},
     "output_type": "execute_result"
    }
   ],
   "source": [
    "n5 = np.arange(8,80,8)\n",
    "n5"
   ]
  },
  {
   "cell_type": "code",
   "execution_count": 193,
   "id": "bc2a26a5",
   "metadata": {},
   "outputs": [
    {
     "data": {
      "text/plain": [
       "array([63, 89, 59, 57, 77, 62, 29, 41, 32, 12, 17, 66])"
      ]
     },
     "execution_count": 193,
     "metadata": {},
     "output_type": "execute_result"
    }
   ],
   "source": [
    "n6 = np.random.randint(10,90,12)\n",
    "n6"
   ]
  },
  {
   "cell_type": "code",
   "execution_count": 194,
   "id": "d3b32ac8",
   "metadata": {},
   "outputs": [
    {
     "data": {
      "text/plain": [
       "(3, 3)"
      ]
     },
     "execution_count": 194,
     "metadata": {},
     "output_type": "execute_result"
    }
   ],
   "source": [
    "n7 = np.array([[1,2,3],[4,5,6],[7,8,9]])\n",
    "n7.shape"
   ]
  },
  {
   "cell_type": "code",
   "execution_count": null,
   "id": "5614d698",
   "metadata": {},
   "outputs": [],
   "source": [
    "#joining numpy array"
   ]
  },
  {
   "cell_type": "code",
   "execution_count": 195,
   "id": "466d9b00",
   "metadata": {},
   "outputs": [],
   "source": [
    "n8 = np.array([1,2,3])\n",
    "n9 = np.array([4,5,6])"
   ]
  },
  {
   "cell_type": "code",
   "execution_count": 197,
   "id": "2aeeec9e",
   "metadata": {},
   "outputs": [
    {
     "data": {
      "text/plain": [
       "array([[1, 2, 3],\n",
       "       [4, 5, 6]])"
      ]
     },
     "execution_count": 197,
     "metadata": {},
     "output_type": "execute_result"
    }
   ],
   "source": [
    "np.vstack((n8,n9))"
   ]
  },
  {
   "cell_type": "code",
   "execution_count": 198,
   "id": "1ea01f39",
   "metadata": {},
   "outputs": [
    {
     "data": {
      "text/plain": [
       "array([1, 2, 3, 4, 5, 6])"
      ]
     },
     "execution_count": 198,
     "metadata": {},
     "output_type": "execute_result"
    }
   ],
   "source": [
    "np.hstack((n8,n9))"
   ]
  },
  {
   "cell_type": "code",
   "execution_count": 199,
   "id": "7379d77a",
   "metadata": {},
   "outputs": [
    {
     "data": {
      "text/plain": [
       "array([[1, 4],\n",
       "       [2, 5],\n",
       "       [3, 6]])"
      ]
     },
     "execution_count": 199,
     "metadata": {},
     "output_type": "execute_result"
    }
   ],
   "source": [
    "np.column_stack((n8,n9))"
   ]
  },
  {
   "cell_type": "code",
   "execution_count": null,
   "id": "2feda684",
   "metadata": {},
   "outputs": [],
   "source": [
    "#intersection & Difference"
   ]
  },
  {
   "cell_type": "code",
   "execution_count": 201,
   "id": "41806dbf",
   "metadata": {},
   "outputs": [],
   "source": [
    "n10 = np.array([1,2,3,4,5,6])\n",
    "n11 = np.array([5,6,7,8,9])"
   ]
  },
  {
   "cell_type": "code",
   "execution_count": 203,
   "id": "3a1e3b79",
   "metadata": {},
   "outputs": [
    {
     "data": {
      "text/plain": [
       "array([5, 6])"
      ]
     },
     "execution_count": 203,
     "metadata": {},
     "output_type": "execute_result"
    }
   ],
   "source": [
    "np.intersect1d(n10,n11)"
   ]
  },
  {
   "cell_type": "code",
   "execution_count": 204,
   "id": "f9dfb3e8",
   "metadata": {},
   "outputs": [
    {
     "data": {
      "text/plain": [
       "array([1, 2, 3, 4])"
      ]
     },
     "execution_count": 204,
     "metadata": {},
     "output_type": "execute_result"
    }
   ],
   "source": [
    "np.setdiff1d(n10,n11)"
   ]
  },
  {
   "cell_type": "code",
   "execution_count": 205,
   "id": "ad7fca3d",
   "metadata": {},
   "outputs": [
    {
     "data": {
      "text/plain": [
       "array([7, 8, 9])"
      ]
     },
     "execution_count": 205,
     "metadata": {},
     "output_type": "execute_result"
    }
   ],
   "source": [
    "np.setdiff1d(n11,n10)"
   ]
  },
  {
   "cell_type": "code",
   "execution_count": null,
   "id": "e7d74e11",
   "metadata": {},
   "outputs": [],
   "source": [
    "#array mathemetics"
   ]
  },
  {
   "cell_type": "code",
   "execution_count": 206,
   "id": "bcaf0dd1",
   "metadata": {},
   "outputs": [],
   "source": [
    "n12 = np.array([10,20,30])\n",
    "n13 = np.array([40,50,60,])"
   ]
  },
  {
   "cell_type": "code",
   "execution_count": 208,
   "id": "e01ac7ac",
   "metadata": {},
   "outputs": [
    {
     "data": {
      "text/plain": [
       "210"
      ]
     },
     "execution_count": 208,
     "metadata": {},
     "output_type": "execute_result"
    }
   ],
   "source": [
    "np.sum([n12,n13])"
   ]
  },
  {
   "cell_type": "code",
   "execution_count": 209,
   "id": "3f08d064",
   "metadata": {},
   "outputs": [
    {
     "data": {
      "text/plain": [
       "array([50, 70, 90])"
      ]
     },
     "execution_count": 209,
     "metadata": {},
     "output_type": "execute_result"
    }
   ],
   "source": [
    "np.sum([n12,n13],axis=0)"
   ]
  },
  {
   "cell_type": "code",
   "execution_count": 210,
   "id": "b6d83d4c",
   "metadata": {},
   "outputs": [
    {
     "data": {
      "text/plain": [
       "array([ 60, 150])"
      ]
     },
     "execution_count": 210,
     "metadata": {},
     "output_type": "execute_result"
    }
   ],
   "source": [
    "np.sum([n12,n13],axis=1)"
   ]
  },
  {
   "cell_type": "code",
   "execution_count": 211,
   "id": "9eae485d",
   "metadata": {},
   "outputs": [],
   "source": [
    "n14 = np.array([40,50,60,])"
   ]
  },
  {
   "cell_type": "code",
   "execution_count": 213,
   "id": "b605ee47",
   "metadata": {},
   "outputs": [
    {
     "data": {
      "text/plain": [
       "array([42, 52, 62])"
      ]
     },
     "execution_count": 213,
     "metadata": {},
     "output_type": "execute_result"
    }
   ],
   "source": [
    "n14=n14+1\n",
    "n14"
   ]
  },
  {
   "cell_type": "code",
   "execution_count": 214,
   "id": "8f70f736",
   "metadata": {},
   "outputs": [
    {
     "data": {
      "text/plain": [
       "array([41, 51, 61])"
      ]
     },
     "execution_count": 214,
     "metadata": {},
     "output_type": "execute_result"
    }
   ],
   "source": [
    "n14=n14-1\n",
    "n14"
   ]
  },
  {
   "cell_type": "code",
   "execution_count": 219,
   "id": "2dd281b1",
   "metadata": {},
   "outputs": [
    {
     "data": {
      "text/plain": [
       "array([ 82., 102., 122.])"
      ]
     },
     "execution_count": 219,
     "metadata": {},
     "output_type": "execute_result"
    }
   ],
   "source": [
    "n14=n14*2\n",
    "n14"
   ]
  },
  {
   "cell_type": "code",
   "execution_count": 217,
   "id": "ee23d3cc",
   "metadata": {},
   "outputs": [
    {
     "data": {
      "text/plain": [
       "array([20.5, 25.5, 30.5])"
      ]
     },
     "execution_count": 217,
     "metadata": {},
     "output_type": "execute_result"
    }
   ],
   "source": [
    "n14=n14/2\n",
    "n14"
   ]
  },
  {
   "cell_type": "code",
   "execution_count": 221,
   "id": "7bb2fa7c",
   "metadata": {},
   "outputs": [],
   "source": [
    "n15 = np.array([10,20,30,40,50,60])"
   ]
  },
  {
   "cell_type": "code",
   "execution_count": 222,
   "id": "9c76f949",
   "metadata": {},
   "outputs": [
    {
     "data": {
      "text/plain": [
       "35.0"
      ]
     },
     "execution_count": 222,
     "metadata": {},
     "output_type": "execute_result"
    }
   ],
   "source": [
    "np.mean(n15)"
   ]
  },
  {
   "cell_type": "code",
   "execution_count": 223,
   "id": "a726f1ef",
   "metadata": {},
   "outputs": [
    {
     "data": {
      "text/plain": [
       "17.07825127659933"
      ]
     },
     "execution_count": 223,
     "metadata": {},
     "output_type": "execute_result"
    }
   ],
   "source": [
    "np.std(n15)"
   ]
  },
  {
   "cell_type": "code",
   "execution_count": 224,
   "id": "c17bda53",
   "metadata": {},
   "outputs": [
    {
     "data": {
      "text/plain": [
       "60"
      ]
     },
     "execution_count": 224,
     "metadata": {},
     "output_type": "execute_result"
    }
   ],
   "source": [
    "np.max(n15)"
   ]
  },
  {
   "cell_type": "code",
   "execution_count": 225,
   "id": "dd232eb4",
   "metadata": {},
   "outputs": [
    {
     "data": {
      "text/plain": [
       "35.0"
      ]
     },
     "execution_count": 225,
     "metadata": {},
     "output_type": "execute_result"
    }
   ],
   "source": [
    "np.median(n15)"
   ]
  },
  {
   "cell_type": "code",
   "execution_count": 228,
   "id": "d1089780",
   "metadata": {},
   "outputs": [
    {
     "data": {
      "text/plain": [
       "array([[1, 2, 3],\n",
       "       [4, 5, 6],\n",
       "       [7, 8, 9]])"
      ]
     },
     "execution_count": 228,
     "metadata": {},
     "output_type": "execute_result"
    }
   ],
   "source": [
    "n16 = np.array([[1,2,3],[4,5,6],[7,8,9]])\n",
    "n16"
   ]
  },
  {
   "cell_type": "code",
   "execution_count": 229,
   "id": "cc3dd012",
   "metadata": {},
   "outputs": [
    {
     "data": {
      "text/plain": [
       "array([1, 2, 3])"
      ]
     },
     "execution_count": 229,
     "metadata": {},
     "output_type": "execute_result"
    }
   ],
   "source": [
    "n16[0]"
   ]
  },
  {
   "cell_type": "code",
   "execution_count": 230,
   "id": "4cb6eea7",
   "metadata": {},
   "outputs": [
    {
     "data": {
      "text/plain": [
       "array([7, 8, 9])"
      ]
     },
     "execution_count": 230,
     "metadata": {},
     "output_type": "execute_result"
    }
   ],
   "source": [
    "n16[2]"
   ]
  },
  {
   "cell_type": "code",
   "execution_count": 233,
   "id": "3ee43f63",
   "metadata": {},
   "outputs": [
    {
     "data": {
      "text/plain": [
       "array([3, 6, 9])"
      ]
     },
     "execution_count": 233,
     "metadata": {},
     "output_type": "execute_result"
    }
   ],
   "source": [
    "n16[:,2]"
   ]
  },
  {
   "cell_type": "code",
   "execution_count": 238,
   "id": "47fed913",
   "metadata": {},
   "outputs": [
    {
     "data": {
      "text/plain": [
       "array([[1, 2, 3],\n",
       "       [4, 5, 6],\n",
       "       [7, 8, 9]])"
      ]
     },
     "execution_count": 238,
     "metadata": {},
     "output_type": "execute_result"
    }
   ],
   "source": [
    "n17 = np.array([[1,2,3],[4,5,6],[7,8,9]])\n",
    "n17"
   ]
  },
  {
   "cell_type": "code",
   "execution_count": 234,
   "id": "29e67cb3",
   "metadata": {},
   "outputs": [
    {
     "data": {
      "text/plain": [
       "array([[1, 4, 7],\n",
       "       [2, 5, 8],\n",
       "       [3, 6, 9]])"
      ]
     },
     "execution_count": 234,
     "metadata": {},
     "output_type": "execute_result"
    }
   ],
   "source": [
    "np.transpose(n16)"
   ]
  },
  {
   "cell_type": "code",
   "execution_count": 239,
   "id": "f31ea0d6",
   "metadata": {},
   "outputs": [
    {
     "data": {
      "text/plain": [
       "array([[9, 8, 7],\n",
       "       [6, 5, 4],\n",
       "       [3, 2, 1]])"
      ]
     },
     "execution_count": 239,
     "metadata": {},
     "output_type": "execute_result"
    }
   ],
   "source": [
    "n18 = np.array([[9,8,7],[6,5,4],[3,2,1]])\n",
    "n18"
   ]
  },
  {
   "cell_type": "code",
   "execution_count": 240,
   "id": "7fc5931c",
   "metadata": {},
   "outputs": [
    {
     "data": {
      "text/plain": [
       "array([[ 30,  24,  18],\n",
       "       [ 84,  69,  54],\n",
       "       [138, 114,  90]])"
      ]
     },
     "execution_count": 240,
     "metadata": {},
     "output_type": "execute_result"
    }
   ],
   "source": [
    "n17.dot(n18)"
   ]
  },
  {
   "cell_type": "code",
   "execution_count": 241,
   "id": "b26c8d54",
   "metadata": {},
   "outputs": [],
   "source": [
    "n18 = np.array([10,20,30,40])"
   ]
  },
  {
   "cell_type": "code",
   "execution_count": 243,
   "id": "0d7a1940",
   "metadata": {},
   "outputs": [],
   "source": [
    "np.save('save_n18',n18)"
   ]
  },
  {
   "cell_type": "code",
   "execution_count": 247,
   "id": "04152944",
   "metadata": {},
   "outputs": [
    {
     "data": {
      "text/plain": [
       "array([10, 20, 30, 40])"
      ]
     },
     "execution_count": 247,
     "metadata": {},
     "output_type": "execute_result"
    }
   ],
   "source": [
    "n19 = np.load('save_n18.npy')\n",
    "n19"
   ]
  },
  {
   "cell_type": "code",
   "execution_count": null,
   "id": "43a1ccc0",
   "metadata": {},
   "outputs": [],
   "source": []
  },
  {
   "cell_type": "code",
   "execution_count": null,
   "id": "f77babe0",
   "metadata": {},
   "outputs": [],
   "source": []
  },
  {
   "cell_type": "code",
   "execution_count": null,
   "id": "30b728e7",
   "metadata": {},
   "outputs": [],
   "source": []
  },
  {
   "cell_type": "code",
   "execution_count": null,
   "id": "1c1f5a9b",
   "metadata": {},
   "outputs": [],
   "source": []
  },
  {
   "cell_type": "code",
   "execution_count": null,
   "id": "2fdb67b0",
   "metadata": {},
   "outputs": [],
   "source": []
  },
  {
   "cell_type": "code",
   "execution_count": null,
   "id": "a0de649c",
   "metadata": {},
   "outputs": [],
   "source": []
  },
  {
   "cell_type": "code",
   "execution_count": null,
   "id": "ff0ca15e",
   "metadata": {},
   "outputs": [],
   "source": []
  },
  {
   "cell_type": "code",
   "execution_count": null,
   "id": "905b4443",
   "metadata": {},
   "outputs": [],
   "source": []
  },
  {
   "cell_type": "code",
   "execution_count": null,
   "id": "4d4ef5cd",
   "metadata": {},
   "outputs": [],
   "source": []
  },
  {
   "cell_type": "code",
   "execution_count": null,
   "id": "9a830a00",
   "metadata": {},
   "outputs": [],
   "source": []
  },
  {
   "cell_type": "code",
   "execution_count": null,
   "id": "6fa7392c",
   "metadata": {},
   "outputs": [],
   "source": []
  },
  {
   "cell_type": "code",
   "execution_count": null,
   "id": "13a2afe4",
   "metadata": {},
   "outputs": [],
   "source": []
  },
  {
   "cell_type": "code",
   "execution_count": null,
   "id": "74fd504e",
   "metadata": {},
   "outputs": [],
   "source": []
  },
  {
   "cell_type": "code",
   "execution_count": null,
   "id": "a4afd9cc",
   "metadata": {},
   "outputs": [],
   "source": []
  },
  {
   "cell_type": "code",
   "execution_count": null,
   "id": "4a1114c1",
   "metadata": {},
   "outputs": [],
   "source": []
  },
  {
   "cell_type": "code",
   "execution_count": null,
   "id": "3648f880",
   "metadata": {},
   "outputs": [],
   "source": []
  },
  {
   "cell_type": "code",
   "execution_count": null,
   "id": "9ad47ebb",
   "metadata": {},
   "outputs": [],
   "source": []
  }
 ],
 "metadata": {
  "kernelspec": {
   "display_name": "Python 3",
   "language": "python",
   "name": "python3"
  },
  "language_info": {
   "codemirror_mode": {
    "name": "ipython",
    "version": 3
   },
   "file_extension": ".py",
   "mimetype": "text/x-python",
   "name": "python",
   "nbconvert_exporter": "python",
   "pygments_lexer": "ipython3",
   "version": "3.8.8"
  }
 },
 "nbformat": 4,
 "nbformat_minor": 5
}
